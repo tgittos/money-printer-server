{
 "cells": [
  {
   "cell_type": "code",
   "execution_count": 1,
   "id": "likely-azerbaijan",
   "metadata": {},
   "outputs": [],
   "source": [
    "import sys\n",
    "sys.path.append('./../src')"
   ]
  },
  {
   "cell_type": "code",
   "execution_count": 2,
   "id": "timely-needle",
   "metadata": {},
   "outputs": [],
   "source": [
    "import lib.tickers as t_db"
   ]
  },
  {
   "cell_type": "code",
   "execution_count": 4,
   "id": "lesbian-hollywood",
   "metadata": {},
   "outputs": [
    {
     "name": "stdout",
     "output_type": "stream",
     "text": [
      "['SPY']\n"
     ]
    }
   ],
   "source": [
    "# data = t_db.add_ticker('SPY')"
   ]
  },
  {
   "cell_type": "code",
   "execution_count": 3,
   "id": "nominated-faculty",
   "metadata": {},
   "outputs": [],
   "source": [
    "tickers = t_db.get_tickers()"
   ]
  },
  {
   "cell_type": "code",
   "execution_count": 4,
   "id": "emotional-honduras",
   "metadata": {},
   "outputs": [
    {
     "name": "stdout",
     "output_type": "stream",
     "text": [
      "['SPY']\n"
     ]
    }
   ],
   "source": [
    "print(tickers)"
   ]
  },
  {
   "cell_type": "code",
   "execution_count": 2,
   "id": "proof-ticket",
   "metadata": {},
   "outputs": [],
   "source": [
    "import lib.alpaca.rest as alpaca"
   ]
  },
  {
   "cell_type": "code",
   "execution_count": 4,
   "id": "pointed-meeting",
   "metadata": {},
   "outputs": [
    {
     "data": {
      "text/plain": [
       "{'id': '9d49d83a-2fb1-4d3c-aa46-a8fdbda715a6',\n",
       " 'account_number': 'PA3G2A0FAKDN',\n",
       " 'status': 'ACTIVE',\n",
       " 'currency': 'USD',\n",
       " 'buying_power': '0',\n",
       " 'regt_buying_power': '0',\n",
       " 'daytrading_buying_power': '0',\n",
       " 'cash': '0',\n",
       " 'portfolio_value': '0',\n",
       " 'pattern_day_trader': False,\n",
       " 'trading_blocked': False,\n",
       " 'transfers_blocked': False,\n",
       " 'account_blocked': False,\n",
       " 'created_at': '2021-02-08T15:52:12.3641Z',\n",
       " 'trade_suspended_by_user': False,\n",
       " 'multiplier': '1',\n",
       " 'shorting_enabled': False,\n",
       " 'equity': '0',\n",
       " 'last_equity': '0',\n",
       " 'long_market_value': '0',\n",
       " 'short_market_value': '0',\n",
       " 'initial_margin': '0',\n",
       " 'maintenance_margin': '0',\n",
       " 'last_maintenance_margin': '0',\n",
       " 'sma': '0',\n",
       " 'daytrade_count': 0}"
      ]
     },
     "execution_count": 4,
     "metadata": {},
     "output_type": "execute_result"
    }
   ],
   "source": [
    "alpaca.auth()"
   ]
  },
  {
   "cell_type": "code",
   "execution_count": 4,
   "id": "dense-gospel",
   "metadata": {},
   "outputs": [
    {
     "name": "stdout",
     "output_type": "stream",
     "text": [
      "https://data.alpaca.markets/v1/bars/1D?limit=100&symbols=spy\n",
      "<Response [200]>\n"
     ]
    },
    {
     "data": {
      "text/plain": [
       "{'spy': []}"
      ]
     },
     "execution_count": 4,
     "metadata": {},
     "output_type": "execute_result"
    }
   ],
   "source": [
    "alpaca.bars(['SPY'], alpaca.Timeframe.day)"
   ]
  },
  {
   "cell_type": "code",
   "execution_count": null,
   "id": "quick-regard",
   "metadata": {},
   "outputs": [],
   "source": []
  }
 ],
 "metadata": {
  "kernelspec": {
   "display_name": "Python 3",
   "language": "python",
   "name": "python3"
  },
  "language_info": {
   "codemirror_mode": {
    "name": "ipython",
    "version": 3
   },
   "file_extension": ".py",
   "mimetype": "text/x-python",
   "name": "python",
   "nbconvert_exporter": "python",
   "pygments_lexer": "ipython3",
   "version": "3.8.7"
  }
 },
 "nbformat": 4,
 "nbformat_minor": 5
}
