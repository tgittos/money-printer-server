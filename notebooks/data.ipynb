{
 "cells": [
  {
   "cell_type": "code",
   "execution_count": 3,
   "id": "rural-frequency",
   "metadata": {},
   "outputs": [],
   "source": [
    "import sys\n",
    "sys.path.append('./../src')\n",
    "\n",
    "# python's shit\n",
    "from os import path\n",
    "from datetime import date, datetime, timedelta\n",
    "import time\n",
    "import calendar\n",
    "\n",
    "# someone elses shit\n",
    "import finnhub\n",
    "import pandas\n",
    "\n",
    "# my shit\n",
    "import config\n",
    "from lib.stonk_jar import StonkJar\n",
    "from lib.finnhub.data import FinnhubData\n",
    "from lib.stores.mysql import Mysql"
   ]
  },
  {
   "cell_type": "markdown",
   "id": "personal-folder",
   "metadata": {},
   "source": [
    "Settings for the data pulling shit\n",
    "\n",
    "pw: YSQNRHve0WV0J5rHnABf"
   ]
  },
  {
   "cell_type": "code",
   "execution_count": 5,
   "id": "empty-parcel",
   "metadata": {},
   "outputs": [],
   "source": [
    "symbol = 'GME'\n",
    "\n",
    "fh = FinnhubData()\n",
    "mysql = Mysql()"
   ]
  },
  {
   "cell_type": "code",
   "execution_count": 8,
   "id": "norwegian-paint",
   "metadata": {},
   "outputs": [
    {
     "data": {
      "text/plain": [
       "[<models.sync.Sync at 0x11eb8b3d0>]"
      ]
     },
     "execution_count": 8,
     "metadata": {},
     "output_type": "execute_result"
    }
   ],
   "source": [
    "mysql.get_sync()"
   ]
  },
  {
   "cell_type": "code",
   "execution_count": null,
   "id": "north-pricing",
   "metadata": {},
   "outputs": [],
   "source": [
    "df = mysql.get_candles_by_time_window(symbol, today.timestamp(), tomorrow.timestamp())"
   ]
  },
  {
   "cell_type": "code",
   "execution_count": null,
   "id": "cooked-royalty",
   "metadata": {},
   "outputs": [],
   "source": [
    "df"
   ]
  },
  {
   "cell_type": "code",
   "execution_count": null,
   "id": "grave-slope",
   "metadata": {},
   "outputs": [],
   "source": [
    "df['t'] = pandas.to_datetime(df['t'], unit = 's')\n",
    "df"
   ]
  },
  {
   "cell_type": "code",
   "execution_count": null,
   "id": "apart-venture",
   "metadata": {},
   "outputs": [],
   "source": []
  },
  {
   "cell_type": "code",
   "execution_count": null,
   "id": "friendly-melbourne",
   "metadata": {},
   "outputs": [],
   "source": []
  },
  {
   "cell_type": "code",
   "execution_count": null,
   "id": "demanding-promise",
   "metadata": {},
   "outputs": [],
   "source": [
    "daily = fh.get_daily_closings(ticker, datetime.today(), include_ah = True)"
   ]
  },
  {
   "cell_type": "code",
   "execution_count": null,
   "id": "associate-excess",
   "metadata": {},
   "outputs": [],
   "source": [
    "daily"
   ]
  },
  {
   "cell_type": "code",
   "execution_count": null,
   "id": "organized-noise",
   "metadata": {},
   "outputs": [],
   "source": []
  },
  {
   "cell_type": "code",
   "execution_count": null,
   "id": "ordered-kingston",
   "metadata": {},
   "outputs": [],
   "source": [
    "data = fh.stock_candles_by_date(ticker, datetime.today(), 60)"
   ]
  },
  {
   "cell_type": "code",
   "execution_count": null,
   "id": "attractive-alexandria",
   "metadata": {},
   "outputs": [],
   "source": [
    "data.describe()"
   ]
  },
  {
   "cell_type": "code",
   "execution_count": null,
   "id": "antique-training",
   "metadata": {},
   "outputs": [],
   "source": []
  },
  {
   "cell_type": "code",
   "execution_count": null,
   "id": "disturbed-collector",
   "metadata": {},
   "outputs": [],
   "source": [
    "data = fh.get_historical_data(ticker, fh.stock_candles_by_date, include_ah = True)"
   ]
  },
  {
   "cell_type": "code",
   "execution_count": null,
   "id": "efficient-permission",
   "metadata": {},
   "outputs": [],
   "source": [
    "data.describe()"
   ]
  },
  {
   "cell_type": "code",
   "execution_count": null,
   "id": "naked-couple",
   "metadata": {},
   "outputs": [],
   "source": []
  },
  {
   "cell_type": "code",
   "execution_count": null,
   "id": "racial-civilization",
   "metadata": {},
   "outputs": [],
   "source": []
  },
  {
   "cell_type": "code",
   "execution_count": null,
   "id": "signal-romania",
   "metadata": {},
   "outputs": [],
   "source": [
    "close_data.describe()"
   ]
  },
  {
   "cell_type": "code",
   "execution_count": null,
   "id": "systematic-router",
   "metadata": {},
   "outputs": [],
   "source": []
  }
 ],
 "metadata": {
  "kernelspec": {
   "display_name": "Python 3",
   "language": "python",
   "name": "python3"
  },
  "language_info": {
   "codemirror_mode": {
    "name": "ipython",
    "version": 3
   },
   "file_extension": ".py",
   "mimetype": "text/x-python",
   "name": "python",
   "nbconvert_exporter": "python",
   "pygments_lexer": "ipython3",
   "version": "3.8.7"
  }
 },
 "nbformat": 4,
 "nbformat_minor": 5
}
