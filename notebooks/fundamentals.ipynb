{
 "cells": [
  {
   "cell_type": "code",
   "execution_count": 1,
   "id": "periodic-infrared",
   "metadata": {},
   "outputs": [],
   "source": [
    "import sys \n",
    "sys.path.append('./../src')\n",
    "\n",
    "from lib.fundamentals import dcf, graham, get_fundamentals_data"
   ]
  },
  {
   "cell_type": "code",
   "execution_count": 13,
   "id": "solid-organizer",
   "metadata": {},
   "outputs": [],
   "source": [
    "ticker = 'AMD'"
   ]
  },
  {
   "cell_type": "code",
   "execution_count": 14,
   "id": "persistent-nirvana",
   "metadata": {},
   "outputs": [
    {
     "name": "stdout",
     "output_type": "stream",
     "text": [
      "Fetching data for AMD...\n",
      "\n",
      "Latest FCF: 777.0\n",
      "Market price: 81.23\n",
      "EPS: 2.06\n",
      "Growth estimate: 26.06\n",
      "Term: 5 years\n",
      "Discount Rate: 10%\n",
      "Perpetual Rate: 3%\n",
      "\n",
      "================================================================================\n",
      "DCF model\n",
      "================================================================================\n",
      "\n",
      "Fair value: 24.46737663889291\n",
      "\n",
      "================================================================================\n",
      "Graham style valuation basic (Page 295, The Intelligent Investor)\n",
      "================================================================================\n",
      "\n",
      "Expected value based on growth rate: 124.8772\n",
      "Growth rate priced in for next 7-10 years: 15.466019417475728\n",
      "\n"
     ]
    }
   ],
   "source": [
    "print(\"Fetching data for %s...\\n\" % (ticker))\n",
    "\n",
    "data = get_fundamentals_data(ticker)\n",
    "\n",
    "print(\"Latest FCF: {}\".format(data['fcf']))\n",
    "print(\"Market price: {}\".format(data['mp']))\n",
    "print(\"EPS: {}\".format(data['eps']))\n",
    "print(\"Growth estimate: {}\".format(data['ge']))\n",
    "print(\"Term: 5 years\")\n",
    "print(\"Discount Rate: 10%\")\n",
    "print(\"Perpetual Rate: 3%\\n\")\n",
    "print(\"=\" * 80)\n",
    "print(\"DCF model\")\n",
    "print(\"=\" * 80 + \"\\n\")\n",
    "dcf_val = dcf(ticker)\n",
    "print(\"Fair value: {}\\n\".format(dcf_val / data['shares']))\n",
    "print(\"=\" * 80)\n",
    "print(\"Graham style valuation basic (Page 295, The Intelligent Investor)\")\n",
    "print(\"=\" * 80 + \"\\n\")\n",
    "g_data = graham(ticker)\n",
    "print(\"Expected value based on growth rate: {}\".format(g_data['expected_value']))\n",
    "print(\"Growth rate priced in for next 7-10 years: {}\\n\".format(g_data['ge_priced_in']))  "
   ]
  },
  {
   "cell_type": "code",
   "execution_count": null,
   "id": "stainless-sunday",
   "metadata": {},
   "outputs": [],
   "source": []
  }
 ],
 "metadata": {
  "kernelspec": {
   "display_name": "Python 3",
   "language": "python",
   "name": "python3"
  },
  "language_info": {
   "codemirror_mode": {
    "name": "ipython",
    "version": 3
   },
   "file_extension": ".py",
   "mimetype": "text/x-python",
   "name": "python",
   "nbconvert_exporter": "python",
   "pygments_lexer": "ipython3",
   "version": "3.8.7"
  }
 },
 "nbformat": 4,
 "nbformat_minor": 5
}
