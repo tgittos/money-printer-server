{
 "cells": [
  {
   "cell_type": "code",
   "execution_count": 1,
   "id": "comprehensive-lemon",
   "metadata": {},
   "outputs": [],
   "source": [
    "import sys \n",
    "sys.path.append('./../src')\n",
    "\n",
    "from lib.fundamentals import dcf, graham, get_fundamentals_data"
   ]
  },
  {
   "cell_type": "code",
   "execution_count": 15,
   "id": "bibliographic-perth",
   "metadata": {},
   "outputs": [],
   "source": [
    "ticker = 'VERU'"
   ]
  },
  {
   "cell_type": "code",
   "execution_count": 16,
   "id": "metallic-multimedia",
   "metadata": {},
   "outputs": [
    {
     "name": "stdout",
     "output_type": "stream",
     "text": [
      "Fetching data for VERU...\n",
      "\n",
      "Latest FCF: -2.04\n",
      "Market price: 14.68\n",
      "EPS: -0.28\n",
      "Growth estimate: 127.6\n",
      "Term: 5 years\n",
      "Discount Rate: 10%\n",
      "Perpetual Rate: 3%\n",
      "\n",
      "================================================================================\n",
      "DCF model\n",
      "================================================================================\n",
      "\n",
      "Fair value: -11.456218418253606\n",
      "\n",
      "================================================================================\n",
      "Graham style valuation basic (Page 295, The Intelligent Investor)\n",
      "================================================================================\n",
      "\n",
      "Expected value based on growth rate: -73.836\n",
      "Growth rate priced in for next 7-10 years: -30.46428571428571\n",
      "\n"
     ]
    }
   ],
   "source": [
    "print(\"Fetching data for %s...\\n\" % (ticker))\n",
    "\n",
    "data = get_fundamentals_data(ticker)\n",
    "\n",
    "print(\"Latest FCF: {}\".format(data['fcf']))\n",
    "print(\"Market price: {}\".format(data['mp']))\n",
    "print(\"EPS: {}\".format(data['eps']))\n",
    "print(\"Growth estimate: {}\".format(data['ge']))\n",
    "print(\"Term: 5 years\")\n",
    "print(\"Discount Rate: 10%\")\n",
    "print(\"Perpetual Rate: 3%\\n\")\n",
    "print(\"=\" * 80)\n",
    "print(\"DCF model\")\n",
    "print(\"=\" * 80 + \"\\n\")\n",
    "dcf_val = dcf(ticker)\n",
    "print(\"Fair value: {}\\n\".format(dcf_val / data['shares']))\n",
    "print(\"=\" * 80)\n",
    "print(\"Graham style valuation basic (Page 295, The Intelligent Investor)\")\n",
    "print(\"=\" * 80 + \"\\n\")\n",
    "g_data = graham(ticker)\n",
    "print(\"Expected value based on growth rate: {}\".format(g_data['expected_value']))\n",
    "print(\"Growth rate priced in for next 7-10 years: {}\\n\".format(g_data['ge_priced_in']))  "
   ]
  },
  {
   "cell_type": "code",
   "execution_count": null,
   "id": "immune-blowing",
   "metadata": {},
   "outputs": [],
   "source": []
  }
 ],
 "metadata": {
  "kernelspec": {
   "display_name": "Python 3",
   "language": "python",
   "name": "python3"
  },
  "language_info": {
   "codemirror_mode": {
    "name": "ipython",
    "version": 3
   },
   "file_extension": ".py",
   "mimetype": "text/x-python",
   "name": "python",
   "nbconvert_exporter": "python",
   "pygments_lexer": "ipython3",
   "version": "3.8.7"
  }
 },
 "nbformat": 4,
 "nbformat_minor": 5
}
