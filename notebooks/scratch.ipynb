{
 "cells": [
  {
   "cell_type": "code",
   "execution_count": 1,
   "id": "d9c20e84-9e41-45f0-ba2b-e1ebd12ee3c8",
   "metadata": {},
   "outputs": [],
   "source": [
    "import pandas as pd\n",
    "\n",
    "from src.core.repositories.stock_repository import get_repository, StockRepositoryConfig\n",
    "from server.config import config as server_config"
   ]
  },
  {
   "cell_type": "code",
   "execution_count": 2,
   "id": "6d56ea17-e247-4550-bdea-c9a0c9c2236c",
   "metadata": {},
   "outputs": [],
   "source": [
    "iex_config = server_config['sandbox']['iexcloud']\n",
    "mysql_config = server_config['sandbox']['db']"
   ]
  },
  {
   "cell_type": "code",
   "execution_count": 3,
   "id": "fa97aa77-69ca-46c0-bc9d-7812b6312c1b",
   "metadata": {},
   "outputs": [],
   "source": [
    "repo = get_repository(iex_config=iex_config, mysql_config=mysql_config)"
   ]
  },
  {
   "cell_type": "code",
   "execution_count": 4,
   "id": "b29b3802-1138-4dbb-a2bd-7171ceaa7752",
   "metadata": {},
   "outputs": [],
   "source": [
    "from datetime import date, datetime"
   ]
  },
  {
   "cell_type": "code",
   "execution_count": 5,
   "id": "1d34f4b2-edc7-467b-b7d3-7e54971b2990",
   "metadata": {},
   "outputs": [],
   "source": [
    "d = pd.to_datetime(date(2021, 9, 17))"
   ]
  },
  {
   "cell_type": "code",
   "execution_count": 6,
   "id": "fdd58650-4ad0-4323-9be5-d136e5ecaf26",
   "metadata": {},
   "outputs": [
    {
     "data": {
      "text/plain": [
       "True"
      ]
     },
     "execution_count": 6,
     "metadata": {},
     "output_type": "execute_result"
    }
   ],
   "source": [
    "repo.has_data_point('SBUX', 'daily', d)"
   ]
  },
  {
   "cell_type": "code",
   "execution_count": 7,
   "id": "bbc5b2c2-ff58-4e1e-b76b-41ca959f3778",
   "metadata": {},
   "outputs": [
    {
     "data": {
      "text/plain": [
       "True"
      ]
     },
     "execution_count": 7,
     "metadata": {},
     "output_type": "execute_result"
    }
   ],
   "source": [
    "d2 = pd.to_datetime(datetime(2021, 9, 17, 9, 30, 0))\n",
    "repo.has_data_point('EWZ', 'intraday', d2)"
   ]
  },
  {
   "cell_type": "code",
   "execution_count": null,
   "id": "54898fa9-2750-4759-a4d6-2e756a875710",
   "metadata": {},
   "outputs": [],
   "source": []
  }
 ],
 "metadata": {
  "kernelspec": {
   "display_name": "Python 3",
   "language": "python",
   "name": "python3"
  },
  "language_info": {
   "codemirror_mode": {
    "name": "ipython",
    "version": 3
   },
   "file_extension": ".py",
   "mimetype": "text/x-python",
   "name": "python",
   "nbconvert_exporter": "python",
   "pygments_lexer": "ipython3",
   "version": "3.8.10"
  }
 },
 "nbformat": 4,
 "nbformat_minor": 5
}
