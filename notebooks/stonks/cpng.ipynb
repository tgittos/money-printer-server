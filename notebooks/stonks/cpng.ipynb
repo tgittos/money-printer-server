{
 "cells": [
  {
   "cell_type": "code",
   "execution_count": 1,
   "id": "hollywood-abraham",
   "metadata": {},
   "outputs": [],
   "source": [
    "import sys \n",
    "sys.path.append('./../../src')\n",
    "\n",
    "# python shit\n",
    "from datetime import datetime\n",
    "\n",
    "# my shit\n",
    "from lib.finnhub.data import FinnhubData as finnhub\n",
    "from lib.oscillators import macd_over_period, stochastic_over_period\n",
    "from lib.charts import chart"
   ]
  },
  {
   "cell_type": "code",
   "execution_count": null,
   "id": "judicial-version",
   "metadata": {},
   "outputs": [],
   "source": [
    "ticker = 'CPNG'\n",
    "\n",
    "fh = finnhub()\n",
    "data = fh.get_historical_data(ticker, fh.get_daily_closings, days = 180)\n",
    "\n",
    "data.index = data['t']\n",
    "data.sort_index()\n",
    "data.drop_duplicates()"
   ]
  },
  {
   "cell_type": "code",
   "execution_count": null,
   "id": "mature-accident",
   "metadata": {},
   "outputs": [],
   "source": [
    "days = 60\n",
    "\n",
    "chart_data = list(data['c'].tail(days))\n",
    "\n",
    "macd_vals = macd_over_period(list(data['c']), days)\n",
    "\n",
    "macd_line = list([i[0] for i in macd_vals])[-1-days:-1]\n",
    "sig_line = list([i[1] for i in macd_vals])[-1-days:-1]\n",
    "histo = list([i[2] for i in macd_vals])[-1-days:-1]\n",
    "\n",
    "oscillator_dicts = [\n",
    "    { 'chart': 'line', 'data': macd_line, 'label': 'macd' },\n",
    "    { 'chart': 'line', 'data': sig_line, 'label': 'signal' },\n",
    "    { 'chart': 'bar', 'data': histo, 'label': ''}\n",
    "]\n",
    "\n",
    "data_dicts = [\n",
    "    { 'label': 'close', 'data': chart_data }\n",
    "]\n",
    "\n",
    "chart(ticker, data_dicts, oscillator_dicts)"
   ]
  },
  {
   "cell_type": "code",
   "execution_count": null,
   "id": "naval-community",
   "metadata": {},
   "outputs": [],
   "source": [
    "stochastic_vals = stochastic_over_period(list(data['c']), days)\n",
    "\n",
    "fastk_data = list([i[0] for i in stochastic_vals])\n",
    "slowd_data = list([i[2] for i in stochastic_vals])\n",
    "\n",
    "oscillator_dicts = [\n",
    "    { 'chart': 'line', 'data': fastk_data, 'label': 'fastk'},\n",
    "    { 'chart': 'line', 'data': slowd_data, 'label': 'slowd'}\n",
    "]\n",
    "\n",
    "data_dicts = [\n",
    "    { 'label': 'close', 'data': chart_data }\n",
    "]\n",
    "\n",
    "chart(ticker, data_dicts, oscillator_dicts)"
   ]
  }
 ],
 "metadata": {
  "kernelspec": {
   "display_name": "Python 3",
   "language": "python",
   "name": "python3"
  },
  "language_info": {
   "codemirror_mode": {
    "name": "ipython",
    "version": 3
   },
   "file_extension": ".py",
   "mimetype": "text/x-python",
   "name": "python",
   "nbconvert_exporter": "python",
   "pygments_lexer": "ipython3",
   "version": "3.8.7"
  }
 },
 "nbformat": 4,
 "nbformat_minor": 5
}
