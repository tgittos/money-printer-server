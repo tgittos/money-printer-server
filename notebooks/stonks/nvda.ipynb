{
 "cells": [
  {
   "cell_type": "code",
   "execution_count": 4,
   "id": "exclusive-australian",
   "metadata": {},
   "outputs": [],
   "source": [
    "import sys \n",
    "sys.path.append('./../../src')\n",
    "\n",
    "# python shit\n",
    "from datetime import datetime\n",
    "\n",
    "# my shit\n",
    "from lib.stores.mysql import Mysql\n",
    "from lib.oscillators import macd, stochastic_over_period, rsi\n",
    "from lib.charts import chart"
   ]
  },
  {
   "cell_type": "code",
   "execution_count": 5,
   "id": "sharing-steel",
   "metadata": {},
   "outputs": [],
   "source": [
    "ticker = 'NVDA'\n",
    "\n",
    "mysql = Mysql()"
   ]
  },
  {
   "cell_type": "code",
   "execution_count": 8,
   "id": "simple-option",
   "metadata": {},
   "outputs": [],
   "source": [
    "data = mysql.update_candles(ticker, 60)"
   ]
  },
  {
   "cell_type": "code",
   "execution_count": null,
   "id": "wicked-client",
   "metadata": {},
   "outputs": [],
   "source": [
    "days = 60\n",
    "\n",
    "chart_data = data['c']\n",
    "(macd_vals, sig_vals, histo_vals) = macd(data[['t','c']])\n",
    "rsi_vals = rsi(data[['t', 'c']])\n",
    "\n",
    "chart_line = list(chart_data.tail(days))\n",
    "rsi_line = list(rsi_vals.tail(days))\n",
    "macd_line = list(macd_vals.tail(days))\n",
    "sig_line = list(sig_vals.tail(days))\n",
    "histo = list(histo_vals.tail(days))\n",
    "\n",
    "oscillator_dicts = [\n",
    "    { 'chart': 'line', 'data': macd_line, 'label': 'macd' },\n",
    "    { 'chart': 'line', 'data': sig_line, 'label': 'signal' },\n",
    "    { 'chart': 'bar', 'data': histo, 'label': ''}\n",
    "]\n",
    "\n",
    "data_dicts = [\n",
    "    { 'label': 'close', 'data': chart_line },\n",
    "    { 'label': 'rsi', 'data': rsi_line }\n",
    "]\n",
    "\n",
    "chart(ticker, data_dicts, oscillator_dicts)"
   ]
  },
  {
   "cell_type": "code",
   "execution_count": null,
   "id": "substantial-incident",
   "metadata": {},
   "outputs": [],
   "source": []
  }
 ],
 "metadata": {
  "kernelspec": {
   "display_name": "Python 3",
   "language": "python",
   "name": "python3"
  },
  "language_info": {
   "codemirror_mode": {
    "name": "ipython",
    "version": 3
   },
   "file_extension": ".py",
   "mimetype": "text/x-python",
   "name": "python",
   "nbconvert_exporter": "python",
   "pygments_lexer": "ipython3",
   "version": "3.8.7"
  }
 },
 "nbformat": 4,
 "nbformat_minor": 5
}
