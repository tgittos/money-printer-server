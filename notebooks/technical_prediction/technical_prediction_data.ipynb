{
 "cells": [
  {
   "cell_type": "code",
   "execution_count": 1,
   "id": "hundred-judge",
   "metadata": {},
   "outputs": [],
   "source": [
    "import sys\n",
    "sys.path.append('./../src')\n",
    "\n",
    "# python's shit\n",
    "from datetime import date, datetime, timedelta\n",
    "import time\n",
    "import calendar\n",
    "\n",
    "# someone elses shit\n",
    "import finnhub\n",
    "import pandas\n",
    "\n",
    "# my shit\n",
    "import config\n",
    "from lib.pickle_jar import PickleJar"
   ]
  },
  {
   "cell_type": "code",
   "execution_count": 2,
   "id": "baking-cannon",
   "metadata": {},
   "outputs": [],
   "source": [
    "finnhub_client = finnhub.Client(api_key=config.api_keys['finnhub']['sandbox'])\n",
    "jar = PickleJar()"
   ]
  },
  {
   "cell_type": "code",
   "execution_count": 3,
   "id": "protected-principle",
   "metadata": {},
   "outputs": [],
   "source": [
    "# Time junk, just for testing?\n",
    "now = time.time()\n",
    "today = date.today()\n",
    "yesterday = today + timedelta(days = -1)"
   ]
  },
  {
   "cell_type": "code",
   "execution_count": 4,
   "id": "comparative-milwaukee",
   "metadata": {},
   "outputs": [],
   "source": [
    "def recommendation_trends_by_date(ticker, date):\n",
    "    first_of_month = date.replace(day = 1)\n",
    "    recommendations = finnhub_client.recommendation_trends(ticker)\n",
    "    recommendation = [r for r in recommendations if datetime.strptime(r['period'], '%Y-%m-%d').date() == first_of_month]\n",
    "    if (len(recommendation) > 0):\n",
    "        return recommendation[0]\n",
    "    return None"
   ]
  },
  {
   "cell_type": "code",
   "execution_count": 5,
   "id": "promotional-reply",
   "metadata": {},
   "outputs": [],
   "source": [
    "def company_earnings_by_date(ticker, date):\n",
    "    reporting_period = timedelta(days = 90)\n",
    "    earnings = finnhub_client.company_earnings(ticker)\n",
    "    earning = [r for r in earnings if datetime.strptime(r['period'], '%Y-%m-%d').date() + reporting_period > date]\n",
    "    if (len(earning) > 0):\n",
    "        return earning[0]\n",
    "    return None"
   ]
  },
  {
   "cell_type": "markdown",
   "id": "removed-sense",
   "metadata": {},
   "source": [
    "Build a base data frame from the stock's low, open, close, high and volume for the given time period"
   ]
  },
  {
   "cell_type": "code",
   "execution_count": 6,
   "id": "minute-weather",
   "metadata": {},
   "outputs": [],
   "source": [
    "def stock_candles_by_date(ticker, date):\n",
    "    first_of_month_ts = int(datetime.combine(date.replace(day = 1), datetime.min.time()).timestamp())\n",
    "    next_month = date.replace(day = 28) + timedelta(days = 4)\n",
    "    last_of_month = next_month - timedelta(days = next_month.day)\n",
    "    last_of_month_ts = datetime.combine(last_of_month, datetime.max.time()).timestamp()\n",
    "    earliest = int(min(time.time(), last_of_month_ts))\n",
    "    candles = finnhub_client.stock_candles('AAPL', '60', first_of_month_ts, earliest)\n",
    "    return zip(candles['l'], candles['o'], candles['c'], candles['h'], candles['v'])"
   ]
  },
  {
   "cell_type": "markdown",
   "id": "dying-plastic",
   "metadata": {},
   "source": [
    "Construct a set of data frames that each hold:\n",
    "- low\n",
    "- open\n",
    "- close\n",
    "- high\n",
    "- volume\n",
    "- eps_actual (the actual EPS of the last relevant reporting period of the data frame's time period)\n",
    "- eps_estimate (the estimated EPS, same as above)\n",
    "- rec_strong_sell\n",
    "- rec_sell\n",
    "- rec_hold\n",
    "- rec_buy\n",
    "- rec_strong_sell (this and the above 4 fields are proportions of each rec cat of the total [0 - 1])"
   ]
  },
  {
   "cell_type": "code",
   "execution_count": 7,
   "id": "latin-bedroom",
   "metadata": {},
   "outputs": [],
   "source": [
    "def construct_data_frames(ticker, date):\n",
    "    trend = recommendation_trends_by_date(ticker, date)\n",
    "    trend_total = trend['strongSell'] + trend['sell'] + trend['hold'] + trend['buy'] + trend['strongBuy']\n",
    "    earnings = company_earnings_by_date(ticker, date)\n",
    "    static_data = [\n",
    "        earnings['actual'], earnings['estimate'],\n",
    "        trend['strongSell'] / trend_total, trend['sell'] / trend_total,\n",
    "        trend['hold'] / trend_total,\n",
    "        trend['buy'] / trend_total, trend['strongBuy'] / trend_total\n",
    "    ]\n",
    "    base_frames = stock_candles_by_date(ticker, date)\n",
    "    return [list(x) + static_data for x in base_frames]"
   ]
  },
  {
   "cell_type": "markdown",
   "id": "agreed-funeral",
   "metadata": {},
   "source": [
    "Go through the calendar and fetch all the historical data on this ticker that we have access to.\n",
    "Let's start with 3 months."
   ]
  },
  {
   "cell_type": "code",
   "execution_count": 14,
   "id": "martial-royalty",
   "metadata": {},
   "outputs": [],
   "source": [
    "def get_historical_data(ticker, days = 90):\n",
    "    # if this historical pickle file exists, just return it\n",
    "    historical_pickle_name = \"{0}.technical.historical.df.pkl\".format(ticker)\n",
    "    if jar.pickle_exists(historical_pickle_name):\n",
    "        return jar.read_pickle_dataframe(historical_pickle_name)\n",
    "    # if it doesn't, build it\n",
    "    historical_data = []\n",
    "    today = date.today()\n",
    "    x_days_ago = today + timedelta(days = -1 * days)\n",
    "    current_date = x_days_ago\n",
    "    while current_date < today:\n",
    "        # look for pickle file for this days data for this day's ticker\n",
    "        pickle_name = \"{0}-{1}.technical.df.pkl\".format(ticker, current_date.strftime(\"%m-%d-%Y\"))\n",
    "        if jar.pickle_exists(pickle_name):\n",
    "            data = jar.read_pickle_dataframe(pickle_name)\n",
    "        else:\n",
    "            data = construct_data_frames(ticker, current_date)\n",
    "            # pickle this day's data to cut down own API requests\n",
    "            df = pandas.DataFrame(data)\n",
    "            jar.write_pickle_dataframe(pickle_name, df)\n",
    "        historical_data.append(data)\n",
    "        current_date = current_date + timedelta(days = 1)\n",
    "    # pickle this historical data\n",
    "    historical_df = pandas.DataFrame(historical_data)\n",
    "    jar.write_pickle_dataframe(historical_pickle_name, historical_df)\n",
    "    return historical_df"
   ]
  },
  {
   "cell_type": "code",
   "execution_count": 15,
   "id": "rolled-samuel",
   "metadata": {},
   "outputs": [
    {
     "name": "stderr",
     "output_type": "stream",
     "text": [
      "/Users/tim/.pyenv/versions/3.8.7/lib/python3.8/site-packages/pandas/core/internals/construction.py:309: VisibleDeprecationWarning: Creating an ndarray from ragged nested sequences (which is a list-or-tuple of lists-or-tuples-or ndarrays with different lengths or shapes) is deprecated. If you meant to do this, you must specify 'dtype=object' when creating the ndarray\n",
      "  values = np.array([convert(v) for v in values])\n"
     ]
    }
   ],
   "source": [
    "data = get_historical_data('AAPL')"
   ]
  },
  {
   "cell_type": "code",
   "execution_count": 16,
   "id": "third-mortality",
   "metadata": {},
   "outputs": [
    {
     "data": {
      "text/html": [
       "<div>\n",
       "<style scoped>\n",
       "    .dataframe tbody tr th:only-of-type {\n",
       "        vertical-align: middle;\n",
       "    }\n",
       "\n",
       "    .dataframe tbody tr th {\n",
       "        vertical-align: top;\n",
       "    }\n",
       "\n",
       "    .dataframe thead th {\n",
       "        text-align: right;\n",
       "    }\n",
       "</style>\n",
       "<table border=\"1\" class=\"dataframe\">\n",
       "  <thead>\n",
       "    <tr style=\"text-align: right;\">\n",
       "      <th></th>\n",
       "      <th>0</th>\n",
       "    </tr>\n",
       "  </thead>\n",
       "  <tbody>\n",
       "    <tr>\n",
       "      <th>0</th>\n",
       "      <td>0           1           2        ...</td>\n",
       "    </tr>\n",
       "    <tr>\n",
       "      <th>1</th>\n",
       "      <td>0           1           2        ...</td>\n",
       "    </tr>\n",
       "    <tr>\n",
       "      <th>2</th>\n",
       "      <td>0           1           2        ...</td>\n",
       "    </tr>\n",
       "    <tr>\n",
       "      <th>3</th>\n",
       "      <td>0           1           2        ...</td>\n",
       "    </tr>\n",
       "    <tr>\n",
       "      <th>4</th>\n",
       "      <td>0           1           2        ...</td>\n",
       "    </tr>\n",
       "  </tbody>\n",
       "</table>\n",
       "</div>"
      ],
      "text/plain": [
       "                                                   0\n",
       "0               0           1           2        ...\n",
       "1               0           1           2        ...\n",
       "2               0           1           2        ...\n",
       "3               0           1           2        ...\n",
       "4               0           1           2        ..."
      ]
     },
     "execution_count": 16,
     "metadata": {},
     "output_type": "execute_result"
    }
   ],
   "source": [
    "data.head()"
   ]
  },
  {
   "cell_type": "code",
   "execution_count": 13,
   "id": "advanced-trail",
   "metadata": {},
   "outputs": [],
   "source": [
    "data_frames_02_24_22 = jar.read_pickle_dataframe(\"{0}-{1}.technical.df.pkl\".format('AAPL', yesterday.strftime(\"%m-%d-%Y\")))"
   ]
  },
  {
   "cell_type": "code",
   "execution_count": 14,
   "id": "choice-evanescence",
   "metadata": {},
   "outputs": [
    {
     "data": {
      "text/html": [
       "<div>\n",
       "<style scoped>\n",
       "    .dataframe tbody tr th:only-of-type {\n",
       "        vertical-align: middle;\n",
       "    }\n",
       "\n",
       "    .dataframe tbody tr th {\n",
       "        vertical-align: top;\n",
       "    }\n",
       "\n",
       "    .dataframe thead th {\n",
       "        text-align: right;\n",
       "    }\n",
       "</style>\n",
       "<table border=\"1\" class=\"dataframe\">\n",
       "  <thead>\n",
       "    <tr style=\"text-align: right;\">\n",
       "      <th></th>\n",
       "      <th>0</th>\n",
       "      <th>1</th>\n",
       "      <th>2</th>\n",
       "      <th>3</th>\n",
       "      <th>4</th>\n",
       "      <th>5</th>\n",
       "      <th>6</th>\n",
       "      <th>7</th>\n",
       "      <th>8</th>\n",
       "      <th>9</th>\n",
       "      <th>10</th>\n",
       "      <th>11</th>\n",
       "    </tr>\n",
       "  </thead>\n",
       "  <tbody>\n",
       "    <tr>\n",
       "      <th>0</th>\n",
       "      <td>122.631000</td>\n",
       "      <td>123.000000</td>\n",
       "      <td>122.815500</td>\n",
       "      <td>123.492000</td>\n",
       "      <td>69</td>\n",
       "      <td>1.68</td>\n",
       "      <td>1.555857</td>\n",
       "      <td>0.024194</td>\n",
       "      <td>0.024194</td>\n",
       "      <td>0.174731</td>\n",
       "      <td>0.5</td>\n",
       "      <td>0.276882</td>\n",
       "    </tr>\n",
       "    <tr>\n",
       "      <th>1</th>\n",
       "      <td>122.385738</td>\n",
       "      <td>122.754000</td>\n",
       "      <td>122.569869</td>\n",
       "      <td>123.245016</td>\n",
       "      <td>83</td>\n",
       "      <td>1.68</td>\n",
       "      <td>1.555857</td>\n",
       "      <td>0.024194</td>\n",
       "      <td>0.024194</td>\n",
       "      <td>0.174731</td>\n",
       "      <td>0.5</td>\n",
       "      <td>0.276882</td>\n",
       "    </tr>\n",
       "    <tr>\n",
       "      <th>2</th>\n",
       "      <td>122.140967</td>\n",
       "      <td>122.508492</td>\n",
       "      <td>122.324729</td>\n",
       "      <td>122.998526</td>\n",
       "      <td>91</td>\n",
       "      <td>1.68</td>\n",
       "      <td>1.555857</td>\n",
       "      <td>0.024194</td>\n",
       "      <td>0.024194</td>\n",
       "      <td>0.174731</td>\n",
       "      <td>0.5</td>\n",
       "      <td>0.276882</td>\n",
       "    </tr>\n",
       "    <tr>\n",
       "      <th>3</th>\n",
       "      <td>121.896685</td>\n",
       "      <td>122.263475</td>\n",
       "      <td>122.544681</td>\n",
       "      <td>122.752529</td>\n",
       "      <td>36</td>\n",
       "      <td>1.68</td>\n",
       "      <td>1.555857</td>\n",
       "      <td>0.024194</td>\n",
       "      <td>0.024194</td>\n",
       "      <td>0.174731</td>\n",
       "      <td>0.5</td>\n",
       "      <td>0.276882</td>\n",
       "    </tr>\n",
       "    <tr>\n",
       "      <th>4</th>\n",
       "      <td>122.445220</td>\n",
       "      <td>122.813661</td>\n",
       "      <td>123.096132</td>\n",
       "      <td>123.304915</td>\n",
       "      <td>97</td>\n",
       "      <td>1.68</td>\n",
       "      <td>1.555857</td>\n",
       "      <td>0.024194</td>\n",
       "      <td>0.024194</td>\n",
       "      <td>0.174731</td>\n",
       "      <td>0.5</td>\n",
       "      <td>0.276882</td>\n",
       "    </tr>\n",
       "  </tbody>\n",
       "</table>\n",
       "</div>"
      ],
      "text/plain": [
       "           0           1           2           3   4     5         6   \\\n",
       "0  122.631000  123.000000  122.815500  123.492000  69  1.68  1.555857   \n",
       "1  122.385738  122.754000  122.569869  123.245016  83  1.68  1.555857   \n",
       "2  122.140967  122.508492  122.324729  122.998526  91  1.68  1.555857   \n",
       "3  121.896685  122.263475  122.544681  122.752529  36  1.68  1.555857   \n",
       "4  122.445220  122.813661  123.096132  123.304915  97  1.68  1.555857   \n",
       "\n",
       "         7         8         9    10        11  \n",
       "0  0.024194  0.024194  0.174731  0.5  0.276882  \n",
       "1  0.024194  0.024194  0.174731  0.5  0.276882  \n",
       "2  0.024194  0.024194  0.174731  0.5  0.276882  \n",
       "3  0.024194  0.024194  0.174731  0.5  0.276882  \n",
       "4  0.024194  0.024194  0.174731  0.5  0.276882  "
      ]
     },
     "execution_count": 14,
     "metadata": {},
     "output_type": "execute_result"
    }
   ],
   "source": [
    "data_frames_02_24_22.head()"
   ]
  },
  {
   "cell_type": "code",
   "execution_count": null,
   "id": "suffering-regulation",
   "metadata": {},
   "outputs": [],
   "source": []
  }
 ],
 "metadata": {
  "kernelspec": {
   "display_name": "Python 3",
   "language": "python",
   "name": "python3"
  },
  "language_info": {
   "codemirror_mode": {
    "name": "ipython",
    "version": 3
   },
   "file_extension": ".py",
   "mimetype": "text/x-python",
   "name": "python",
   "nbconvert_exporter": "python",
   "pygments_lexer": "ipython3",
   "version": "3.8.7"
  }
 },
 "nbformat": 4,
 "nbformat_minor": 5
}
