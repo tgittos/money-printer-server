{
 "cells": [
  {
   "cell_type": "code",
   "execution_count": 1,
   "id": "commercial-reputation",
   "metadata": {},
   "outputs": [],
   "source": [
    "import sys\n",
    "sys.path.append('./../src')\n",
    "\n",
    "# python's shit\n",
    "from datetime import date, datetime, timedelta\n",
    "import time\n",
    "\n",
    "# someone elses shit\n",
    "import finnhub\n",
    "import pandas\n",
    "\n",
    "# my shit\n",
    "import config\n",
    "from lib.pickle_jar import PickleJar"
   ]
  },
  {
   "cell_type": "code",
   "execution_count": 2,
   "id": "passive-verification",
   "metadata": {},
   "outputs": [],
   "source": [
    "finnhub_client = finnhub.Client(api_key=config.api_keys['finnhub']['sandbox'])"
   ]
  },
  {
   "cell_type": "code",
   "execution_count": 3,
   "id": "piano-chair",
   "metadata": {},
   "outputs": [],
   "source": [
    "# Time junk, just for testing?\n",
    "now = time.time()\n",
    "today = date.today()\n",
    "yesterday = today + timedelta(days = -1)"
   ]
  },
  {
   "cell_type": "code",
   "execution_count": 4,
   "id": "alike-irish",
   "metadata": {},
   "outputs": [],
   "source": [
    "def recommendation_trends_by_date(ticker, date):\n",
    "    first_of_month = date.replace(day = 1)\n",
    "    recommendations = finnhub_client.recommendation_trends(ticker)\n",
    "    recommendation = [r for r in recommendations if datetime.strptime(r['period'], '%Y-%m-%d').date() == first_of_month]\n",
    "    if (len(recommendation) > 0):\n",
    "        return recommendation[0]\n",
    "    return None"
   ]
  },
  {
   "cell_type": "code",
   "execution_count": 5,
   "id": "satisfied-exposure",
   "metadata": {},
   "outputs": [],
   "source": [
    "def company_earnings_by_date(ticker, date):\n",
    "    reporting_period = timedelta(days = 90)\n",
    "    earnings = finnhub_client.company_earnings(ticker)\n",
    "    earning = [r for r in earnings if datetime.strptime(r['period'], '%Y-%m-%d').date() + reporting_period > date]\n",
    "    if (len(earning) > 0):\n",
    "        return earning[0]\n",
    "    return None"
   ]
  },
  {
   "cell_type": "markdown",
   "id": "framed-purpose",
   "metadata": {},
   "source": [
    "Build a base data frame from the stock's low, open, close, high and volume for the given time period"
   ]
  },
  {
   "cell_type": "code",
   "execution_count": 6,
   "id": "baking-disposal",
   "metadata": {},
   "outputs": [],
   "source": [
    "def stock_candles_by_date(ticker, date):\n",
    "    first_of_month_ts = int(datetime.combine(date.replace(day = 1), datetime.min.time()).timestamp())\n",
    "    next_month = date.replace(day = 28) + timedelta(days = 4)\n",
    "    last_of_month = next_month - timedelta(days = next_month.day)\n",
    "    last_of_month_ts = datetime.combine(last_of_month, datetime.max.time()).timestamp()\n",
    "    earliest = int(min(time.time(), last_of_month_ts))\n",
    "    candles = finnhub_client.stock_candles('AAPL', '60', first_of_month_ts, earliest)\n",
    "    return zip(candles['l'], candles['o'], candles['c'], candles['h'], candles['v'])"
   ]
  },
  {
   "cell_type": "markdown",
   "id": "indie-astrology",
   "metadata": {},
   "source": [
    "Construct a set of data frames that each hold:\n",
    "- low\n",
    "- open\n",
    "- close\n",
    "- high\n",
    "- volume\n",
    "- eps_actual (the actual EPS of the last relevant reporting period of the data frame's time period)\n",
    "- eps_estimate (the estimated EPS, same as above)\n",
    "- rec_strong_sell\n",
    "- rec_sell\n",
    "- rec_hold\n",
    "- rec_buy\n",
    "- rec_strong_sell (this and the above 4 fields are proportions of each rec cat of the total [0 - 1])"
   ]
  },
  {
   "cell_type": "code",
   "execution_count": 7,
   "id": "objective-plaza",
   "metadata": {},
   "outputs": [],
   "source": [
    "def construct_data_frames(ticker, date):\n",
    "    trend = recommendation_trends_by_date(ticker, date)\n",
    "    earnings = company_earnings_by_date(ticker, date)\n",
    "    static_data = [\n",
    "        earnings['actual'], earnings['estimate'],\n",
    "        trend['strongSell'], trend['sell'], trend['hold'], trend['buy'], trend['strongBuy']\n",
    "    ]\n",
    "    base_frames = stock_candles_by_date(ticker, date)\n",
    "    return [list(x) + static_data for x in base_frames]"
   ]
  },
  {
   "cell_type": "code",
   "execution_count": 8,
   "id": "perfect-tunisia",
   "metadata": {},
   "outputs": [],
   "source": [
    "jar = PickleJar()\n",
    "data_frames_02_24_22 = jar.read_pickle_dataframe(\"{0}-{1}.technical.df.pkl\".format('AAPL', today.strftime(\"%m-%d-%Y\")))"
   ]
  },
  {
   "cell_type": "code",
   "execution_count": 9,
   "id": "bright-means",
   "metadata": {},
   "outputs": [
    {
     "data": {
      "text/html": [
       "<div>\n",
       "<style scoped>\n",
       "    .dataframe tbody tr th:only-of-type {\n",
       "        vertical-align: middle;\n",
       "    }\n",
       "\n",
       "    .dataframe tbody tr th {\n",
       "        vertical-align: top;\n",
       "    }\n",
       "\n",
       "    .dataframe thead th {\n",
       "        text-align: right;\n",
       "    }\n",
       "</style>\n",
       "<table border=\"1\" class=\"dataframe\">\n",
       "  <thead>\n",
       "    <tr style=\"text-align: right;\">\n",
       "      <th></th>\n",
       "      <th>0</th>\n",
       "      <th>1</th>\n",
       "      <th>2</th>\n",
       "      <th>3</th>\n",
       "      <th>4</th>\n",
       "      <th>5</th>\n",
       "      <th>6</th>\n",
       "      <th>7</th>\n",
       "      <th>8</th>\n",
       "      <th>9</th>\n",
       "      <th>10</th>\n",
       "      <th>11</th>\n",
       "    </tr>\n",
       "  </thead>\n",
       "  <tbody>\n",
       "    <tr>\n",
       "      <th>0</th>\n",
       "      <td>122.631000</td>\n",
       "      <td>123.000000</td>\n",
       "      <td>123.282900</td>\n",
       "      <td>123.492000</td>\n",
       "      <td>41</td>\n",
       "      <td>1.68</td>\n",
       "      <td>1.555857</td>\n",
       "      <td>5.5</td>\n",
       "      <td>5.5</td>\n",
       "      <td>39.5</td>\n",
       "      <td>113</td>\n",
       "      <td>62.5</td>\n",
       "    </tr>\n",
       "    <tr>\n",
       "      <th>1</th>\n",
       "      <td>123.182840</td>\n",
       "      <td>123.553500</td>\n",
       "      <td>123.837673</td>\n",
       "      <td>124.047714</td>\n",
       "      <td>85</td>\n",
       "      <td>1.68</td>\n",
       "      <td>1.555857</td>\n",
       "      <td>5.5</td>\n",
       "      <td>5.5</td>\n",
       "      <td>39.5</td>\n",
       "      <td>113</td>\n",
       "      <td>62.5</td>\n",
       "    </tr>\n",
       "    <tr>\n",
       "      <th>2</th>\n",
       "      <td>123.737162</td>\n",
       "      <td>124.109491</td>\n",
       "      <td>124.394943</td>\n",
       "      <td>124.605929</td>\n",
       "      <td>99</td>\n",
       "      <td>1.68</td>\n",
       "      <td>1.555857</td>\n",
       "      <td>5.5</td>\n",
       "      <td>5.5</td>\n",
       "      <td>39.5</td>\n",
       "      <td>113</td>\n",
       "      <td>62.5</td>\n",
       "    </tr>\n",
       "    <tr>\n",
       "      <th>3</th>\n",
       "      <td>124.293980</td>\n",
       "      <td>124.667983</td>\n",
       "      <td>124.480981</td>\n",
       "      <td>125.166655</td>\n",
       "      <td>22</td>\n",
       "      <td>1.68</td>\n",
       "      <td>1.555857</td>\n",
       "      <td>5.5</td>\n",
       "      <td>5.5</td>\n",
       "      <td>39.5</td>\n",
       "      <td>113</td>\n",
       "      <td>62.5</td>\n",
       "    </tr>\n",
       "    <tr>\n",
       "      <th>4</th>\n",
       "      <td>124.045392</td>\n",
       "      <td>124.418647</td>\n",
       "      <td>124.704810</td>\n",
       "      <td>124.916322</td>\n",
       "      <td>74</td>\n",
       "      <td>1.68</td>\n",
       "      <td>1.555857</td>\n",
       "      <td>5.5</td>\n",
       "      <td>5.5</td>\n",
       "      <td>39.5</td>\n",
       "      <td>113</td>\n",
       "      <td>62.5</td>\n",
       "    </tr>\n",
       "  </tbody>\n",
       "</table>\n",
       "</div>"
      ],
      "text/plain": [
       "           0           1           2           3   4     5         6    7   \\\n",
       "0  122.631000  123.000000  123.282900  123.492000  41  1.68  1.555857  5.5   \n",
       "1  123.182840  123.553500  123.837673  124.047714  85  1.68  1.555857  5.5   \n",
       "2  123.737162  124.109491  124.394943  124.605929  99  1.68  1.555857  5.5   \n",
       "3  124.293980  124.667983  124.480981  125.166655  22  1.68  1.555857  5.5   \n",
       "4  124.045392  124.418647  124.704810  124.916322  74  1.68  1.555857  5.5   \n",
       "\n",
       "    8     9    10    11  \n",
       "0  5.5  39.5  113  62.5  \n",
       "1  5.5  39.5  113  62.5  \n",
       "2  5.5  39.5  113  62.5  \n",
       "3  5.5  39.5  113  62.5  \n",
       "4  5.5  39.5  113  62.5  "
      ]
     },
     "execution_count": 9,
     "metadata": {},
     "output_type": "execute_result"
    }
   ],
   "source": [
    "data_frames_02_24_22.head()"
   ]
  }
 ],
 "metadata": {
  "kernelspec": {
   "display_name": "Python 3",
   "language": "python",
   "name": "python3"
  },
  "language_info": {
   "codemirror_mode": {
    "name": "ipython",
    "version": 3
   },
   "file_extension": ".py",
   "mimetype": "text/x-python",
   "name": "python",
   "nbconvert_exporter": "python",
   "pygments_lexer": "ipython3",
   "version": "3.8.7"
  }
 },
 "nbformat": 4,
 "nbformat_minor": 5
}
