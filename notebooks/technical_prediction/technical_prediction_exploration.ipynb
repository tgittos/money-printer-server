{
 "cells": [
  {
   "cell_type": "code",
   "execution_count": 47,
   "id": "increased-savannah",
   "metadata": {},
   "outputs": [],
   "source": [
    "import sys\n",
    "sys.path.append('./../../src')\n",
    "\n",
    "# python shit\n",
    "import datetime\n",
    "\n",
    "# others shit\n",
    "from matplotlib import pyplot\n",
    "\n",
    "# my shit\n",
    "from lib.stonk_jar import StonkJar"
   ]
  },
  {
   "cell_type": "code",
   "execution_count": 17,
   "id": "dutch-hawaii",
   "metadata": {},
   "outputs": [],
   "source": [
    "ticker = 'AAPL'\n",
    "jar = StonkJar(ticker)"
   ]
  },
  {
   "cell_type": "code",
   "execution_count": 18,
   "id": "greatest-indianapolis",
   "metadata": {},
   "outputs": [],
   "source": [
    "time_frame = '1'\n",
    "historical_pickle_name = \"{0}.technical.{1}.historical.df.pkl\".format(ticker, time_frame)\n",
    "data = jar.read_pickle_dataframe(historical_pickle_name)"
   ]
  },
  {
   "cell_type": "code",
   "execution_count": 19,
   "id": "comprehensive-cement",
   "metadata": {},
   "outputs": [
    {
     "data": {
      "text/html": [
       "<div>\n",
       "<style scoped>\n",
       "    .dataframe tbody tr th:only-of-type {\n",
       "        vertical-align: middle;\n",
       "    }\n",
       "\n",
       "    .dataframe tbody tr th {\n",
       "        vertical-align: top;\n",
       "    }\n",
       "\n",
       "    .dataframe thead th {\n",
       "        text-align: right;\n",
       "    }\n",
       "</style>\n",
       "<table border=\"1\" class=\"dataframe\">\n",
       "  <thead>\n",
       "    <tr style=\"text-align: right;\">\n",
       "      <th></th>\n",
       "      <th>v</th>\n",
       "      <th>e_a</th>\n",
       "      <th>e_e</th>\n",
       "      <th>r_ss</th>\n",
       "      <th>r_s</th>\n",
       "      <th>r_h</th>\n",
       "      <th>r_b</th>\n",
       "      <th>r_sb</th>\n",
       "    </tr>\n",
       "  </thead>\n",
       "  <tbody>\n",
       "    <tr>\n",
       "      <th>count</th>\n",
       "      <td>3.860305e+06</td>\n",
       "      <td>3.860305e+06</td>\n",
       "      <td>3.860305e+06</td>\n",
       "      <td>3.860305e+06</td>\n",
       "      <td>3.860305e+06</td>\n",
       "      <td>3.860305e+06</td>\n",
       "      <td>3.860305e+06</td>\n",
       "      <td>3.860305e+06</td>\n",
       "    </tr>\n",
       "    <tr>\n",
       "      <th>mean</th>\n",
       "      <td>5.000387e+01</td>\n",
       "      <td>1.680000e+00</td>\n",
       "      <td>1.555857e+00</td>\n",
       "      <td>1.537892e-02</td>\n",
       "      <td>1.537892e-02</td>\n",
       "      <td>1.784524e-01</td>\n",
       "      <td>5.083847e-01</td>\n",
       "      <td>2.824051e-01</td>\n",
       "    </tr>\n",
       "    <tr>\n",
       "      <th>std</th>\n",
       "      <td>2.857487e+01</td>\n",
       "      <td>1.376677e-14</td>\n",
       "      <td>1.421086e-14</td>\n",
       "      <td>1.149616e-02</td>\n",
       "      <td>1.149616e-02</td>\n",
       "      <td>1.842182e-02</td>\n",
       "      <td>3.311151e-02</td>\n",
       "      <td>6.699199e-03</td>\n",
       "    </tr>\n",
       "    <tr>\n",
       "      <th>min</th>\n",
       "      <td>1.000000e+00</td>\n",
       "      <td>1.680000e+00</td>\n",
       "      <td>1.555857e+00</td>\n",
       "      <td>0.000000e+00</td>\n",
       "      <td>0.000000e+00</td>\n",
       "      <td>1.582734e-01</td>\n",
       "      <td>4.520548e-01</td>\n",
       "      <td>2.773973e-01</td>\n",
       "    </tr>\n",
       "    <tr>\n",
       "      <th>25%</th>\n",
       "      <td>2.500000e+01</td>\n",
       "      <td>1.680000e+00</td>\n",
       "      <td>1.555857e+00</td>\n",
       "      <td>0.000000e+00</td>\n",
       "      <td>0.000000e+00</td>\n",
       "      <td>1.582734e-01</td>\n",
       "      <td>4.760274e-01</td>\n",
       "      <td>2.773973e-01</td>\n",
       "    </tr>\n",
       "    <tr>\n",
       "      <th>50%</th>\n",
       "      <td>5.000000e+01</td>\n",
       "      <td>1.680000e+00</td>\n",
       "      <td>1.555857e+00</td>\n",
       "      <td>2.397260e-02</td>\n",
       "      <td>2.397260e-02</td>\n",
       "      <td>1.746575e-01</td>\n",
       "      <td>5.000000e-01</td>\n",
       "      <td>2.773973e-01</td>\n",
       "    </tr>\n",
       "    <tr>\n",
       "      <th>75%</th>\n",
       "      <td>7.500000e+01</td>\n",
       "      <td>1.680000e+00</td>\n",
       "      <td>1.555857e+00</td>\n",
       "      <td>2.397260e-02</td>\n",
       "      <td>2.397260e-02</td>\n",
       "      <td>1.986301e-01</td>\n",
       "      <td>5.503597e-01</td>\n",
       "      <td>2.913669e-01</td>\n",
       "    </tr>\n",
       "    <tr>\n",
       "      <th>max</th>\n",
       "      <td>9.900000e+01</td>\n",
       "      <td>1.680000e+00</td>\n",
       "      <td>1.555857e+00</td>\n",
       "      <td>2.397260e-02</td>\n",
       "      <td>2.397260e-02</td>\n",
       "      <td>2.226027e-01</td>\n",
       "      <td>5.503597e-01</td>\n",
       "      <td>2.913669e-01</td>\n",
       "    </tr>\n",
       "  </tbody>\n",
       "</table>\n",
       "</div>"
      ],
      "text/plain": [
       "                  v           e_a           e_e          r_ss           r_s  \\\n",
       "count  3.860305e+06  3.860305e+06  3.860305e+06  3.860305e+06  3.860305e+06   \n",
       "mean   5.000387e+01  1.680000e+00  1.555857e+00  1.537892e-02  1.537892e-02   \n",
       "std    2.857487e+01  1.376677e-14  1.421086e-14  1.149616e-02  1.149616e-02   \n",
       "min    1.000000e+00  1.680000e+00  1.555857e+00  0.000000e+00  0.000000e+00   \n",
       "25%    2.500000e+01  1.680000e+00  1.555857e+00  0.000000e+00  0.000000e+00   \n",
       "50%    5.000000e+01  1.680000e+00  1.555857e+00  2.397260e-02  2.397260e-02   \n",
       "75%    7.500000e+01  1.680000e+00  1.555857e+00  2.397260e-02  2.397260e-02   \n",
       "max    9.900000e+01  1.680000e+00  1.555857e+00  2.397260e-02  2.397260e-02   \n",
       "\n",
       "                r_h           r_b          r_sb  \n",
       "count  3.860305e+06  3.860305e+06  3.860305e+06  \n",
       "mean   1.784524e-01  5.083847e-01  2.824051e-01  \n",
       "std    1.842182e-02  3.311151e-02  6.699199e-03  \n",
       "min    1.582734e-01  4.520548e-01  2.773973e-01  \n",
       "25%    1.582734e-01  4.760274e-01  2.773973e-01  \n",
       "50%    1.746575e-01  5.000000e-01  2.773973e-01  \n",
       "75%    1.986301e-01  5.503597e-01  2.913669e-01  \n",
       "max    2.226027e-01  5.503597e-01  2.913669e-01  "
      ]
     },
     "execution_count": 19,
     "metadata": {},
     "output_type": "execute_result"
    }
   ],
   "source": [
    "data.describe()"
   ]
  },
  {
   "cell_type": "code",
   "execution_count": 20,
   "id": "comfortable-estonia",
   "metadata": {},
   "outputs": [
    {
     "data": {
      "text/html": [
       "<div>\n",
       "<style scoped>\n",
       "    .dataframe tbody tr th:only-of-type {\n",
       "        vertical-align: middle;\n",
       "    }\n",
       "\n",
       "    .dataframe tbody tr th {\n",
       "        vertical-align: top;\n",
       "    }\n",
       "\n",
       "    .dataframe thead th {\n",
       "        text-align: right;\n",
       "    }\n",
       "</style>\n",
       "<table border=\"1\" class=\"dataframe\">\n",
       "  <thead>\n",
       "    <tr style=\"text-align: right;\">\n",
       "      <th></th>\n",
       "      <th>ts</th>\n",
       "      <th>o</th>\n",
       "      <th>l</th>\n",
       "      <th>h</th>\n",
       "      <th>c</th>\n",
       "      <th>v</th>\n",
       "      <th>e_a</th>\n",
       "      <th>e_e</th>\n",
       "      <th>r_ss</th>\n",
       "      <th>r_s</th>\n",
       "      <th>r_h</th>\n",
       "      <th>r_b</th>\n",
       "      <th>r_sb</th>\n",
       "    </tr>\n",
       "    <tr>\n",
       "      <th>ts</th>\n",
       "      <th></th>\n",
       "      <th></th>\n",
       "      <th></th>\n",
       "      <th></th>\n",
       "      <th></th>\n",
       "      <th></th>\n",
       "      <th></th>\n",
       "      <th></th>\n",
       "      <th></th>\n",
       "      <th></th>\n",
       "      <th></th>\n",
       "      <th></th>\n",
       "      <th></th>\n",
       "    </tr>\n",
       "  </thead>\n",
       "  <tbody>\n",
       "    <tr>\n",
       "      <th>9910</th>\n",
       "      <td>2020-12-08 03:10:00</td>\n",
       "      <td>31329900.626012</td>\n",
       "      <td>31424173.145448</td>\n",
       "      <td>31377036.88573</td>\n",
       "      <td>31549869.83803</td>\n",
       "      <td>6</td>\n",
       "      <td>1.68</td>\n",
       "      <td>1.555857</td>\n",
       "      <td>0.023973</td>\n",
       "      <td>0.023973</td>\n",
       "      <td>0.19863</td>\n",
       "      <td>0.476027</td>\n",
       "      <td>0.277397</td>\n",
       "    </tr>\n",
       "  </tbody>\n",
       "</table>\n",
       "</div>"
      ],
      "text/plain": [
       "                      ts                o                l               h  \\\n",
       "ts                                                                           \n",
       "9910 2020-12-08 03:10:00  31329900.626012  31424173.145448  31377036.88573   \n",
       "\n",
       "                   c  v   e_a       e_e      r_ss       r_s      r_h  \\\n",
       "ts                                                                     \n",
       "9910  31549869.83803  6  1.68  1.555857  0.023973  0.023973  0.19863   \n",
       "\n",
       "           r_b      r_sb  \n",
       "ts                        \n",
       "9910  0.476027  0.277397  "
      ]
     },
     "execution_count": 20,
     "metadata": {},
     "output_type": "execute_result"
    }
   ],
   "source": [
    "data.sample()"
   ]
  },
  {
   "cell_type": "code",
   "execution_count": 42,
   "id": "canadian-spirit",
   "metadata": {},
   "outputs": [],
   "source": [
    "def graph(data_frame):\n",
    "    # specify columns to plot\n",
    "    groups = [1, 2, 3, 4]\n",
    "    i = 1\n",
    "    # plot each column\n",
    "    pyplot.figure()\n",
    "    for group in groups:\n",
    "        # pyplot.subplot(len(groups), 1, i)\n",
    "        pyplot.plot(data.values[:, group])\n",
    "        pyplot.title(data.columns[group], y=0.5, loc='right')\n",
    "        pyplot.show()\n",
    "        i += 1"
   ]
  },
  {
   "cell_type": "code",
   "execution_count": 41,
   "id": "comparable-malta",
   "metadata": {},
   "outputs": [
    {
     "data": {
      "image/png": "[encoded data removed]",
      "text/plain": [
       "<Figure size 432x288 with 1 Axes>"
      ]
     },
     "metadata": {
      "needs_background": "light"
     },
     "output_type": "display_data"
    },
    {
     "data": {
      "image/png": "[encoded data removed]",
      "text/plain": [
       "<Figure size 432x288 with 1 Axes>"
      ]
     },
     "metadata": {
      "needs_background": "light"
     },
     "output_type": "display_data"
    },
    {
     "data": {
      "image/png": "[encoded data removed]",
      "text/plain": [
       "<Figure size 432x288 with 1 Axes>"
      ]
     },
     "metadata": {
      "needs_background": "light"
     },
     "output_type": "display_data"
    },
    {
     "data": {
      "image/png": "[encoded data removed]",
      "text/plain": [
       "<Figure size 432x288 with 1 Axes>"
      ]
     },
     "metadata": {
      "needs_background": "light"
     },
     "output_type": "display_data"
    }
   ],
   "source": [
    "graph(data)"
   ]
  },
  {
   "cell_type": "markdown",
   "id": "paperback-instruction",
   "metadata": {},
   "source": [
    "Can we make certain statistical observations on the data set that we can use to input as variables to the prediction CNN? If we recalculate the statistical observations every time period, we can keep a statistical overview of the activity at various time levels.\n",
    "\n",
    "Obvious derived values might be:\n",
    "\n",
    "- gradients of o/l/h/c values\n",
    "- max/min of o/c values\n",
    "- std dev of o/c values"
   ]
  },
  {
   "cell_type": "code",
   "execution_count": 43,
   "id": "continuing-privilege",
   "metadata": {},
   "outputs": [],
   "source": [
    "bunk_data = jar.read_pickle_dataframe('AAPL-12-08-2020.1.technical.df.pkl')"
   ]
  },
  {
   "cell_type": "code",
   "execution_count": 44,
   "id": "checked-blowing",
   "metadata": {},
   "outputs": [
    {
     "data": {
      "text/html": [
       "<div>\n",
       "<style scoped>\n",
       "    .dataframe tbody tr th:only-of-type {\n",
       "        vertical-align: middle;\n",
       "    }\n",
       "\n",
       "    .dataframe tbody tr th {\n",
       "        vertical-align: top;\n",
       "    }\n",
       "\n",
       "    .dataframe thead th {\n",
       "        text-align: right;\n",
       "    }\n",
       "</style>\n",
       "<table border=\"1\" class=\"dataframe\">\n",
       "  <thead>\n",
       "    <tr style=\"text-align: right;\">\n",
       "      <th></th>\n",
       "      <th>0</th>\n",
       "      <th>5</th>\n",
       "      <th>6</th>\n",
       "      <th>7</th>\n",
       "      <th>8</th>\n",
       "      <th>9</th>\n",
       "      <th>10</th>\n",
       "      <th>11</th>\n",
       "      <th>12</th>\n",
       "    </tr>\n",
       "  </thead>\n",
       "  <tbody>\n",
       "    <tr>\n",
       "      <th>count</th>\n",
       "      <td>4.464000e+04</td>\n",
       "      <td>44640.000000</td>\n",
       "      <td>44640.00</td>\n",
       "      <td>4.464000e+04</td>\n",
       "      <td>4.464000e+04</td>\n",
       "      <td>4.464000e+04</td>\n",
       "      <td>4.464000e+04</td>\n",
       "      <td>4.464000e+04</td>\n",
       "      <td>4.464000e+04</td>\n",
       "    </tr>\n",
       "    <tr>\n",
       "      <th>mean</th>\n",
       "      <td>1.608142e+09</td>\n",
       "      <td>49.951792</td>\n",
       "      <td>1.68</td>\n",
       "      <td>1.555857e+00</td>\n",
       "      <td>2.397260e-02</td>\n",
       "      <td>2.397260e-02</td>\n",
       "      <td>1.986301e-01</td>\n",
       "      <td>4.760274e-01</td>\n",
       "      <td>2.773973e-01</td>\n",
       "    </tr>\n",
       "    <tr>\n",
       "      <th>std</th>\n",
       "      <td>7.731961e+05</td>\n",
       "      <td>28.558380</td>\n",
       "      <td>0.00</td>\n",
       "      <td>2.220471e-16</td>\n",
       "      <td>6.938972e-18</td>\n",
       "      <td>6.938972e-18</td>\n",
       "      <td>2.775589e-17</td>\n",
       "      <td>1.110235e-16</td>\n",
       "      <td>5.551177e-17</td>\n",
       "    </tr>\n",
       "    <tr>\n",
       "      <th>min</th>\n",
       "      <td>1.606802e+09</td>\n",
       "      <td>1.000000</td>\n",
       "      <td>1.68</td>\n",
       "      <td>1.555857e+00</td>\n",
       "      <td>2.397260e-02</td>\n",
       "      <td>2.397260e-02</td>\n",
       "      <td>1.986301e-01</td>\n",
       "      <td>4.760274e-01</td>\n",
       "      <td>2.773973e-01</td>\n",
       "    </tr>\n",
       "    <tr>\n",
       "      <th>25%</th>\n",
       "      <td>1.607472e+09</td>\n",
       "      <td>25.000000</td>\n",
       "      <td>1.68</td>\n",
       "      <td>1.555857e+00</td>\n",
       "      <td>2.397260e-02</td>\n",
       "      <td>2.397260e-02</td>\n",
       "      <td>1.986301e-01</td>\n",
       "      <td>4.760274e-01</td>\n",
       "      <td>2.773973e-01</td>\n",
       "    </tr>\n",
       "    <tr>\n",
       "      <th>50%</th>\n",
       "      <td>1.608142e+09</td>\n",
       "      <td>50.000000</td>\n",
       "      <td>1.68</td>\n",
       "      <td>1.555857e+00</td>\n",
       "      <td>2.397260e-02</td>\n",
       "      <td>2.397260e-02</td>\n",
       "      <td>1.986301e-01</td>\n",
       "      <td>4.760274e-01</td>\n",
       "      <td>2.773973e-01</td>\n",
       "    </tr>\n",
       "    <tr>\n",
       "      <th>75%</th>\n",
       "      <td>1.608811e+09</td>\n",
       "      <td>75.000000</td>\n",
       "      <td>1.68</td>\n",
       "      <td>1.555857e+00</td>\n",
       "      <td>2.397260e-02</td>\n",
       "      <td>2.397260e-02</td>\n",
       "      <td>1.986301e-01</td>\n",
       "      <td>4.760274e-01</td>\n",
       "      <td>2.773973e-01</td>\n",
       "    </tr>\n",
       "    <tr>\n",
       "      <th>max</th>\n",
       "      <td>1.609481e+09</td>\n",
       "      <td>99.000000</td>\n",
       "      <td>1.68</td>\n",
       "      <td>1.555857e+00</td>\n",
       "      <td>2.397260e-02</td>\n",
       "      <td>2.397260e-02</td>\n",
       "      <td>1.986301e-01</td>\n",
       "      <td>4.760274e-01</td>\n",
       "      <td>2.773973e-01</td>\n",
       "    </tr>\n",
       "  </tbody>\n",
       "</table>\n",
       "</div>"
      ],
      "text/plain": [
       "                 0             5         6             7             8   \\\n",
       "count  4.464000e+04  44640.000000  44640.00  4.464000e+04  4.464000e+04   \n",
       "mean   1.608142e+09     49.951792      1.68  1.555857e+00  2.397260e-02   \n",
       "std    7.731961e+05     28.558380      0.00  2.220471e-16  6.938972e-18   \n",
       "min    1.606802e+09      1.000000      1.68  1.555857e+00  2.397260e-02   \n",
       "25%    1.607472e+09     25.000000      1.68  1.555857e+00  2.397260e-02   \n",
       "50%    1.608142e+09     50.000000      1.68  1.555857e+00  2.397260e-02   \n",
       "75%    1.608811e+09     75.000000      1.68  1.555857e+00  2.397260e-02   \n",
       "max    1.609481e+09     99.000000      1.68  1.555857e+00  2.397260e-02   \n",
       "\n",
       "                 9             10            11            12  \n",
       "count  4.464000e+04  4.464000e+04  4.464000e+04  4.464000e+04  \n",
       "mean   2.397260e-02  1.986301e-01  4.760274e-01  2.773973e-01  \n",
       "std    6.938972e-18  2.775589e-17  1.110235e-16  5.551177e-17  \n",
       "min    2.397260e-02  1.986301e-01  4.760274e-01  2.773973e-01  \n",
       "25%    2.397260e-02  1.986301e-01  4.760274e-01  2.773973e-01  \n",
       "50%    2.397260e-02  1.986301e-01  4.760274e-01  2.773973e-01  \n",
       "75%    2.397260e-02  1.986301e-01  4.760274e-01  2.773973e-01  \n",
       "max    2.397260e-02  1.986301e-01  4.760274e-01  2.773973e-01  "
      ]
     },
     "execution_count": 44,
     "metadata": {},
     "output_type": "execute_result"
    }
   ],
   "source": [
    "bunk_data.describe()"
   ]
  },
  {
   "cell_type": "code",
   "execution_count": 45,
   "id": "duplicate-sender",
   "metadata": {},
   "outputs": [
    {
     "data": {
      "text/html": [
       "<div>\n",
       "<style scoped>\n",
       "    .dataframe tbody tr th:only-of-type {\n",
       "        vertical-align: middle;\n",
       "    }\n",
       "\n",
       "    .dataframe tbody tr th {\n",
       "        vertical-align: top;\n",
       "    }\n",
       "\n",
       "    .dataframe thead th {\n",
       "        text-align: right;\n",
       "    }\n",
       "</style>\n",
       "<table border=\"1\" class=\"dataframe\">\n",
       "  <thead>\n",
       "    <tr style=\"text-align: right;\">\n",
       "      <th></th>\n",
       "      <th>0</th>\n",
       "      <th>1</th>\n",
       "      <th>2</th>\n",
       "      <th>3</th>\n",
       "      <th>4</th>\n",
       "      <th>5</th>\n",
       "      <th>6</th>\n",
       "      <th>7</th>\n",
       "      <th>8</th>\n",
       "      <th>9</th>\n",
       "      <th>10</th>\n",
       "      <th>11</th>\n",
       "      <th>12</th>\n",
       "    </tr>\n",
       "  </thead>\n",
       "  <tbody>\n",
       "    <tr>\n",
       "      <th>6397</th>\n",
       "      <td>1607186220</td>\n",
       "      <td>389980.805602</td>\n",
       "      <td>391154.268407</td>\n",
       "      <td>392053.923225</td>\n",
       "      <td>392718.885481</td>\n",
       "      <td>45</td>\n",
       "      <td>1.68</td>\n",
       "      <td>1.555857</td>\n",
       "      <td>0.023973</td>\n",
       "      <td>0.023973</td>\n",
       "      <td>0.19863</td>\n",
       "      <td>0.476027</td>\n",
       "      <td>0.277397</td>\n",
       "    </tr>\n",
       "  </tbody>\n",
       "</table>\n",
       "</div>"
      ],
      "text/plain": [
       "              0              1              2              3              4   \\\n",
       "6397  1607186220  389980.805602  391154.268407  392053.923225  392718.885481   \n",
       "\n",
       "      5     6         7         8         9        10        11        12  \n",
       "6397  45  1.68  1.555857  0.023973  0.023973  0.19863  0.476027  0.277397  "
      ]
     },
     "execution_count": 45,
     "metadata": {},
     "output_type": "execute_result"
    }
   ],
   "source": [
    "bunk_data.sample()"
   ]
  },
  {
   "cell_type": "code",
   "execution_count": 29,
   "id": "stainless-representative",
   "metadata": {},
   "outputs": [],
   "source": [
    "bunk_candles = jar.read_pickle_dataframe('AAPL_candles.1.2020-12-08.pkl')"
   ]
  },
  {
   "cell_type": "code",
   "execution_count": 52,
   "id": "unique-camping",
   "metadata": {},
   "outputs": [
    {
     "data": {
      "text/plain": [
       "datetime.datetime(2020, 12, 5, 10, 37)"
      ]
     },
     "execution_count": 52,
     "metadata": {},
     "output_type": "execute_result"
    }
   ],
   "source": [
    "datetime.datetime.fromtimestamp(1607186220)"
   ]
  },
  {
   "cell_type": "code",
   "execution_count": null,
   "id": "affected-freight",
   "metadata": {},
   "outputs": [],
   "source": []
  }
 ],
 "metadata": {
  "kernelspec": {
   "display_name": "Python 3",
   "language": "python",
   "name": "python3"
  },
  "language_info": {
   "codemirror_mode": {
    "name": "ipython",
    "version": 3
   },
   "file_extension": ".py",
   "mimetype": "text/x-python",
   "name": "python",
   "nbconvert_exporter": "python",
   "pygments_lexer": "ipython3",
   "version": "3.8.7"
  }
 },
 "nbformat": 4,
 "nbformat_minor": 5
}
