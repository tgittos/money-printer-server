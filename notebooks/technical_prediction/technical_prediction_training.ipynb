{
 "cells": [
  {
   "cell_type": "code",
   "execution_count": 316,
   "id": "duplicate-fraction",
   "metadata": {},
   "outputs": [],
   "source": [
    "import sys\n",
    "sys.path.append('./../../src')\n",
    "\n",
    "# others shit\n",
    "from matplotlib import pyplot\n",
    "\n",
    "# my shit\n",
    "from lib.stonk_jar import StonkJar"
   ]
  },
  {
   "cell_type": "code",
   "execution_count": 317,
   "id": "architectural-assessment",
   "metadata": {},
   "outputs": [],
   "source": [
    "ticker = 'AAPL'\n",
    "jar = StonkJar(ticker)\n",
    "historical_pickle_name = \"{0}.technical.historical.df.pkl\".format(ticker)\n",
    "data = jar.read_pickle_dataframe(historical_pickle_name)"
   ]
  },
  {
   "cell_type": "code",
   "execution_count": 318,
   "id": "center-vermont",
   "metadata": {},
   "outputs": [
    {
     "name": "stdout",
     "output_type": "stream",
     "text": [
      "                    ts           o           l           h           c   v  \\\n",
      "ts                                                                           \n",
      "0  2020-11-01 05:00:00  122.631000  123.000000  123.282900  123.492000  32   \n",
      "1  2020-11-01 06:00:00  123.182840  123.553500  123.837673  124.047714  69   \n",
      "2  2020-11-01 07:00:00  123.737162  124.109491  124.394943  124.605929  34   \n",
      "3  2020-11-01 08:00:00  124.293980  124.667983  124.954720  125.166655  37   \n",
      "4  2020-11-01 09:00:00  124.853302  125.228989  125.041146  125.729905  23   \n",
      "\n",
      "     e_a       e_e      r_ss       r_s       r_h      r_b      r_sb  \n",
      "ts                                                                   \n",
      "0   1.68  1.555857  0.023585  0.023585  0.221698  0.45283  0.278302  \n",
      "1   1.68  1.555857  0.023585  0.023585  0.221698  0.45283  0.278302  \n",
      "2   1.68  1.555857  0.023585  0.023585  0.221698  0.45283  0.278302  \n",
      "3   1.68  1.555857  0.023585  0.023585  0.221698  0.45283  0.278302  \n",
      "4   1.68  1.555857  0.023585  0.023585  0.221698  0.45283  0.278302  \n"
     ]
    }
   ],
   "source": [
    "len(data)\n",
    "print(data.head())"
   ]
  },
  {
   "cell_type": "markdown",
   "id": "smoking-antigua",
   "metadata": {},
   "source": [
    "LTSM/Keras code below jacked shamelessly from https://machinelearningmastery.com/multivariate-time-series-forecasting-lstms-keras/"
   ]
  },
  {
   "cell_type": "code",
   "execution_count": 319,
   "id": "breeding-turkey",
   "metadata": {},
   "outputs": [],
   "source": [
    "# training params\n",
    "\n",
    "n_features = 12\n",
    "\n",
    "# number of samples to use to train in each round\n",
    "# samples in this case are hourly tickers, so this is a 8hr trading day\n",
    "n_samples = 8\n",
    "\n",
    "# output 1 prediction\n",
    "n_outputs = 1\n",
    "\n",
    "# 5 days of trading data at a time\n",
    "batch_size = n_samples * 5"
   ]
  },
  {
   "cell_type": "code",
   "execution_count": 320,
   "id": "civilian-mechanics",
   "metadata": {},
   "outputs": [
    {
     "name": "stdout",
     "output_type": "stream",
     "text": [
      "    var1(t-8)  var2(t-8)  var3(t-8)  var4(t-8)  var5(t-8)  var6(t-8)  \\\n",
      "8    0.009413   0.009413   0.010341   0.009413   0.316327        0.0   \n",
      "9    0.011658   0.011658   0.012596   0.011658   0.693878        0.0   \n",
      "10   0.013913   0.013913   0.014862   0.013913   0.336735        0.0   \n",
      "11   0.016178   0.016178   0.017138   0.016178   0.367347        0.0   \n",
      "12   0.018454   0.018454   0.017490   0.018454   0.224490        0.0   \n",
      "\n",
      "    var7(t-8)  var8(t-8)  var9(t-8)  var10(t-8)  ...   var3(t)   var4(t)  \\\n",
      "8         0.0        1.0        1.0         1.0  ...  0.021971  0.020987   \n",
      "9         0.0        1.0        1.0         1.0  ...  0.022325  0.023284   \n",
      "10        0.0        1.0        1.0         1.0  ...  0.021299  0.022259   \n",
      "11        0.0        1.0        1.0         1.0  ...  0.022220  0.021235   \n",
      "12        0.0        1.0        1.0         1.0  ...  0.024529  0.023534   \n",
      "\n",
      "     var5(t)  var6(t)  var7(t)  var8(t)  var9(t)  var10(t)  var11(t)  var12(t)  \n",
      "8   0.612245      0.0      0.0      1.0      1.0       1.0       0.0       0.0  \n",
      "9   0.887755      0.0      0.0      1.0      1.0       1.0       0.0       0.0  \n",
      "10  0.612245      0.0      0.0      1.0      1.0       1.0       0.0       0.0  \n",
      "11  0.408163      0.0      0.0      1.0      1.0       1.0       0.0       0.0  \n",
      "12  0.979592      0.0      0.0      1.0      1.0       1.0       0.0       0.0  \n",
      "\n",
      "[5 rows x 108 columns]\n"
     ]
    }
   ],
   "source": [
    "# prepare data for lstm\n",
    "from pandas import DataFrame\n",
    "from pandas import concat\n",
    "from sklearn.preprocessing import LabelEncoder\n",
    "from sklearn.preprocessing import MinMaxScaler\n",
    "\n",
    "# convert series to supervised learning\n",
    "def series_to_supervised(data, n_in=1, n_out=1, dropnan=True):\n",
    "    n_vars = 1 if type(data) is list else data.shape[1]\n",
    "    df = DataFrame(data)\n",
    "    cols, names = list(), list()\n",
    "    # input sequence (t-n, ... t-1)\n",
    "    for i in range(n_in, 0, -1):\n",
    "        cols.append(df.shift(i))\n",
    "        names += [('var%d(t-%d)' % (j+1, i)) for j in range(n_vars)]\n",
    "    # forecast sequence (t, t+1, ... t+n)\n",
    "    for i in range(0, n_out):\n",
    "        cols.append(df.shift(-i))\n",
    "        if i == 0:\n",
    "            names += [('var%d(t)' % (j+1)) for j in range(n_vars)]\n",
    "        else:\n",
    "            names += [('var%d(t+%d)' % (j+1, i)) for j in range(n_vars)]\n",
    "    # put it all together\n",
    "    agg = concat(cols, axis=1)\n",
    "    agg.columns = names\n",
    "    # drop rows with NaN values\n",
    "    if dropnan:\n",
    "        agg.dropna(inplace=True)\n",
    "    return agg\n",
    "\n",
    "data.index.name = 'ts'\n",
    "values = data.values[:, 1:]\n",
    "# integer encode direction\n",
    "encoder = LabelEncoder()\n",
    "# wtf is the 4 about? why 4?\n",
    "values[:,4] = encoder.fit_transform(values[:,4])\n",
    "# ensure all data is float\n",
    "values = values.astype('float32')\n",
    "# normalize features\n",
    "scaler = MinMaxScaler(feature_range=(0, 1))\n",
    "scaled = scaler.fit_transform(values)\n",
    "# frame as supervised learning\n",
    "reframed = series_to_supervised(scaled, n_samples, n_outputs)\n",
    "# drop columns we don't want to predict\n",
    "# reframed.drop(reframed.columns[[6, 7, 8, 9, 10, 11, 12]], axis=1, inplace=True)\n",
    "print(reframed.head())"
   ]
  },
  {
   "cell_type": "code",
   "execution_count": 321,
   "id": "southeast-contrast",
   "metadata": {},
   "outputs": [
    {
     "name": "stdout",
     "output_type": "stream",
     "text": [
      "(47818, 8, 12) (47818,) (15940, 8, 12) (15940,)\n"
     ]
    }
   ],
   "source": [
    "# split into train and test sets\n",
    "values = reframed.values\n",
    "training_pct = 0.75\n",
    "n_training = int(len(values) * 0.75)\n",
    "train = values[:n_training, :]\n",
    "test = values[n_training:, :]\n",
    "# split into input and outputs\n",
    "n_obs = n_samples * n_features\n",
    "train_X, train_y = train[:, :n_obs], train[:, -n_features]\n",
    "test_X, test_y = test[:, :n_obs], test[:, -n_features]\n",
    "# reshape input to be 3D [samples, timesteps, features]\n",
    "train_X = train_X.reshape((train_X.shape[0], n_samples, n_features))\n",
    "test_X = test_X.reshape((test_X.shape[0], n_samples, n_features))\n",
    "print(train_X.shape, train_y.shape, test_X.shape, test_y.shape)"
   ]
  },
  {
   "cell_type": "markdown",
   "id": "acquired-alignment",
   "metadata": {},
   "source": [
    ">We will define the LSTM with 50 neurons in the first hidden layer and 1 neuron in the output layer for predicting pollution. The input shape will be 1 time step with 8 features.\n",
    ">\n",
    ">We will use the Mean Absolute Error (MAE) loss function and the efficient Adam version of stochastic gradient descent.\n",
    ">\n",
    ">The model will be fit for 50 training epochs with a batch size of 72. Remember that the internal state of the LSTM in Keras is reset at the end of each batch, so an internal state that is a function of a number of days may be helpful (try testing this).\n",
    ">\n",
    ">Finally, we keep track of both the training and test loss during training by setting the validation_data argument in the fit() function. At the end of the run both the training and test loss are plotted."
   ]
  },
  {
   "cell_type": "code",
   "execution_count": 322,
   "id": "advised-project",
   "metadata": {},
   "outputs": [
    {
     "name": "stdout",
     "output_type": "stream",
     "text": [
      "Epoch 1/50\n",
      "1196/1196 - 8s - loss: 0.0293 - val_loss: 0.0452\n",
      "Epoch 2/50\n",
      "1196/1196 - 5s - loss: 0.0133 - val_loss: 0.0412\n",
      "Epoch 3/50\n",
      "1196/1196 - 5s - loss: 0.0114 - val_loss: 0.0101\n",
      "Epoch 4/50\n",
      "1196/1196 - 5s - loss: 0.0120 - val_loss: 0.0131\n",
      "Epoch 5/50\n",
      "1196/1196 - 5s - loss: 0.0091 - val_loss: 0.0103\n",
      "Epoch 6/50\n",
      "1196/1196 - 5s - loss: 0.0103 - val_loss: 0.0211\n",
      "Epoch 7/50\n",
      "1196/1196 - 5s - loss: 0.0070 - val_loss: 0.0198\n",
      "Epoch 8/50\n",
      "1196/1196 - 5s - loss: 0.0080 - val_loss: 0.0161\n",
      "Epoch 9/50\n",
      "1196/1196 - 5s - loss: 0.0078 - val_loss: 0.0099\n",
      "Epoch 10/50\n",
      "1196/1196 - 5s - loss: 0.0078 - val_loss: 0.0173\n",
      "Epoch 11/50\n",
      "1196/1196 - 5s - loss: 0.0077 - val_loss: 0.0068\n",
      "Epoch 12/50\n",
      "1196/1196 - 5s - loss: 0.0066 - val_loss: 0.0056\n",
      "Epoch 13/50\n",
      "1196/1196 - 6s - loss: 0.0070 - val_loss: 0.0076\n",
      "Epoch 14/50\n",
      "1196/1196 - 5s - loss: 0.0065 - val_loss: 0.0195\n",
      "Epoch 15/50\n",
      "1196/1196 - 5s - loss: 0.0086 - val_loss: 0.0183\n",
      "Epoch 16/50\n",
      "1196/1196 - 5s - loss: 0.0059 - val_loss: 0.0131\n",
      "Epoch 17/50\n",
      "1196/1196 - 5s - loss: 0.0054 - val_loss: 0.0047\n",
      "Epoch 18/50\n",
      "1196/1196 - 5s - loss: 0.0061 - val_loss: 0.0374\n",
      "Epoch 19/50\n",
      "1196/1196 - 5s - loss: 0.0061 - val_loss: 0.0203\n",
      "Epoch 20/50\n",
      "1196/1196 - 5s - loss: 0.0054 - val_loss: 0.0237\n",
      "Epoch 21/50\n",
      "1196/1196 - 6s - loss: 0.0058 - val_loss: 0.0062\n",
      "Epoch 22/50\n",
      "1196/1196 - 6s - loss: 0.0064 - val_loss: 0.0185\n",
      "Epoch 23/50\n",
      "1196/1196 - 6s - loss: 0.0049 - val_loss: 0.0232\n",
      "Epoch 24/50\n",
      "1196/1196 - 5s - loss: 0.0053 - val_loss: 0.0074\n",
      "Epoch 25/50\n",
      "1196/1196 - 5s - loss: 0.0069 - val_loss: 0.0173\n",
      "Epoch 26/50\n",
      "1196/1196 - 5s - loss: 0.0044 - val_loss: 0.0236\n",
      "Epoch 27/50\n",
      "1196/1196 - 5s - loss: 0.0049 - val_loss: 0.0092\n",
      "Epoch 28/50\n",
      "1196/1196 - 5s - loss: 0.0050 - val_loss: 0.0125\n",
      "Epoch 29/50\n",
      "1196/1196 - 5s - loss: 0.0053 - val_loss: 0.0110\n",
      "Epoch 30/50\n",
      "1196/1196 - 5s - loss: 0.0070 - val_loss: 0.0276\n",
      "Epoch 31/50\n",
      "1196/1196 - 5s - loss: 0.0055 - val_loss: 0.0214\n",
      "Epoch 32/50\n",
      "1196/1196 - 5s - loss: 0.0051 - val_loss: 0.0151\n",
      "Epoch 33/50\n",
      "1196/1196 - 5s - loss: 0.0047 - val_loss: 0.0111\n",
      "Epoch 34/50\n",
      "1196/1196 - 5s - loss: 0.0047 - val_loss: 0.0140\n",
      "Epoch 35/50\n",
      "1196/1196 - 5s - loss: 0.0051 - val_loss: 0.0092\n",
      "Epoch 36/50\n",
      "1196/1196 - 5s - loss: 0.0051 - val_loss: 0.0119\n",
      "Epoch 37/50\n",
      "1196/1196 - 5s - loss: 0.0043 - val_loss: 0.0022\n",
      "Epoch 38/50\n",
      "1196/1196 - 5s - loss: 0.0043 - val_loss: 0.0093\n",
      "Epoch 39/50\n",
      "1196/1196 - 6s - loss: 0.0046 - val_loss: 0.0096\n",
      "Epoch 40/50\n",
      "1196/1196 - 5s - loss: 0.0040 - val_loss: 0.0092\n",
      "Epoch 41/50\n",
      "1196/1196 - 5s - loss: 0.0039 - val_loss: 0.0195\n",
      "Epoch 42/50\n",
      "1196/1196 - 5s - loss: 0.0042 - val_loss: 0.0053\n",
      "Epoch 43/50\n",
      "1196/1196 - 5s - loss: 0.0048 - val_loss: 0.0033\n",
      "Epoch 44/50\n",
      "1196/1196 - 5s - loss: 0.0049 - val_loss: 0.0059\n",
      "Epoch 45/50\n",
      "1196/1196 - 5s - loss: 0.0042 - val_loss: 0.0063\n",
      "Epoch 46/50\n",
      "1196/1196 - 5s - loss: 0.0037 - val_loss: 0.0107\n",
      "Epoch 47/50\n",
      "1196/1196 - 5s - loss: 0.0038 - val_loss: 0.0049\n",
      "Epoch 48/50\n",
      "1196/1196 - 5s - loss: 0.0039 - val_loss: 0.0065\n",
      "Epoch 49/50\n",
      "1196/1196 - 5s - loss: 0.0046 - val_loss: 0.0047\n",
      "Epoch 50/50\n",
      "1196/1196 - 6s - loss: 0.0045 - val_loss: 0.0111\n"
     ]
    },
    {
     "data": {
      "image/png": "[encoded data removed]",
      "text/plain": [
       "<Figure size 432x288 with 1 Axes>"
      ]
     },
     "metadata": {
      "needs_background": "light"
     },
     "output_type": "display_data"
    }
   ],
   "source": [
    "from keras.models import Sequential\n",
    "from keras.layers import LSTM\n",
    "from keras.layers import Dense\n",
    "\n",
    "# design network\n",
    "model = Sequential()\n",
    "model.add(LSTM(50, input_shape=(train_X.shape[1], train_X.shape[2])))\n",
    "model.add(Dense(n_outputs))\n",
    "model.compile(loss='mae', optimizer='adam')\n",
    "# fit network\n",
    "history = model.fit(train_X, train_y, epochs=50, batch_size=batch_size, validation_data=(test_X, test_y), verbose=2, shuffle=False)\n",
    "# plot history\n",
    "pyplot.plot(history.history['loss'], label='train')\n",
    "pyplot.plot(history.history['val_loss'], label='test')\n",
    "pyplot.legend()\n",
    "pyplot.show()"
   ]
  },
  {
   "cell_type": "code",
   "execution_count": 331,
   "id": "continued-repeat",
   "metadata": {},
   "outputs": [
    {
     "name": "stdout",
     "output_type": "stream",
     "text": [
      "Test RMSE: 6.035\n"
     ]
    }
   ],
   "source": [
    "from numpy import concatenate\n",
    "from math import sqrt\n",
    "from sklearn.metrics import mean_squared_error\n",
    "\n",
    "# make a prediction\n",
    "yhat = model.predict(test_X)\n",
    "test_X_pred = test_X.reshape((test_X.shape[0], n_samples*n_features))\n",
    "# invert scaling for forecast\n",
    "inv_yhat = concatenate((yhat, test_X_pred[:, -(n_features-1):]), axis=1)\n",
    "inv_yhat = scaler.inverse_transform(inv_yhat)\n",
    "inv_yhat = inv_yhat[:,0]\n",
    "# invert scaling for actual\n",
    "test_y_pred = test_y.reshape((len(test_y), 1))\n",
    "inv_y = concatenate((test_y_pred, test_X_pred[:, -(n_features-1):]), axis=1)\n",
    "inv_y = scaler.inverse_transform(inv_y)\n",
    "inv_y = inv_y[:,0]\n",
    "# calculate RMSE\n",
    "rmse = sqrt(mean_squared_error(inv_y, inv_yhat))\n",
    "print('Test RMSE: %.3f' % rmse)"
   ]
  }
 ],
 "metadata": {
  "kernelspec": {
   "display_name": "Python 3",
   "language": "python",
   "name": "python3"
  },
  "language_info": {
   "codemirror_mode": {
    "name": "ipython",
    "version": 3
   },
   "file_extension": ".py",
   "mimetype": "text/x-python",
   "name": "python",
   "nbconvert_exporter": "python",
   "pygments_lexer": "ipython3",
   "version": "3.8.7"
  }
 },
 "nbformat": 4,
 "nbformat_minor": 5
}
