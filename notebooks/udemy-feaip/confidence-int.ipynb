{
 "cells": [
  {
   "cell_type": "code",
   "execution_count": 1,
   "id": "99dc34d5-21ad-4d27-a695-989d57a87ddb",
   "metadata": {},
   "outputs": [],
   "source": [
    "from datetime import date, timedelta\n",
    "from scipy.stats import t\n",
    "import numpy as np\n",
    "import matplotlib.pyplot as plt\n",
    "import pandas as pd"
   ]
  },
  {
   "cell_type": "code",
   "execution_count": 2,
   "id": "d53b83c7-43d9-401e-a58b-ef9cc372d642",
   "metadata": {},
   "outputs": [],
   "source": [
    "from src.core.repositories.stock_repository import get_repository, StockRepositoryConfig\n",
    "from server.config import config as server_config\n",
    "from src.core.lib.analysis.returns import returns"
   ]
  },
  {
   "cell_type": "code",
   "execution_count": 3,
   "id": "1abb9c68-5b50-45ba-93af-7b4ea39d6bd4",
   "metadata": {},
   "outputs": [],
   "source": [
    "start = date.today() - timedelta(weeks=52)\n",
    "end = date.today()"
   ]
  },
  {
   "cell_type": "code",
   "execution_count": 4,
   "id": "d063c4dd-8e0d-44b2-90a4-3fd70b7fa392",
   "metadata": {},
   "outputs": [],
   "source": [
    "iex_config = server_config['sandbox']['iexcloud']\n",
    "mysql_config = server_config['sandbox']['db']"
   ]
  },
  {
   "cell_type": "code",
   "execution_count": 5,
   "id": "1c98b3f5-c604-4c09-b262-4ae7a2325167",
   "metadata": {},
   "outputs": [],
   "source": [
    "repo = get_repository(iex_config=iex_config, mysql_config=mysql_config)"
   ]
  },
  {
   "cell_type": "code",
   "execution_count": 6,
   "id": "9079be8e-716a-43b7-a138-a2001fbf3e19",
   "metadata": {},
   "outputs": [],
   "source": [
    "sbux = repo.historical_daily('SBUX', start=start, end=end)"
   ]
  },
  {
   "cell_type": "code",
   "execution_count": 8,
   "id": "c3e9ca84-c0ef-4946-8ad1-94fdd2d9d62c",
   "metadata": {},
   "outputs": [],
   "source": [
    "sbux = returns(sbux)"
   ]
  },
  {
   "cell_type": "code",
   "execution_count": 9,
   "id": "51d7f7a2-df02-42b9-9199-37615abb2064",
   "metadata": {},
   "outputs": [],
   "source": [
    "values = sbux['return'].astype(float).dropna().to_numpy()"
   ]
  },
  {
   "cell_type": "code",
   "execution_count": 10,
   "id": "d2f821fc-89b2-4b99-9726-316db1261f87",
   "metadata": {},
   "outputs": [],
   "source": [
    "m = values.mean()\n",
    "s = values.std(ddof=1)"
   ]
  },
  {
   "cell_type": "code",
   "execution_count": 11,
   "id": "9451e923-0a7d-4714-9801-4fc83defd440",
   "metadata": {},
   "outputs": [],
   "source": [
    "low = m - 1.96 * s / np.sqrt(len(values))\n",
    "high = m + 1.96 * s / np.sqrt(len(values))"
   ]
  },
  {
   "cell_type": "code",
   "execution_count": 12,
   "id": "99eb2220-b747-4cca-b4ed-1302ae99a4db",
   "metadata": {},
   "outputs": [
    {
     "data": {
      "image/png": "[encoded data removed]",
      "text/plain": [
       "<Figure size 432x288 with 1 Axes>"
      ]
     },
     "metadata": {
      "needs_background": "light"
     },
     "output_type": "display_data"
    }
   ],
   "source": [
    "sbux['return'].hist(bins=100, density=True);\n",
    "plt.axvline(m, label='mean', color='red');\n",
    "plt.axvline(low, label='low', color='green');\n",
    "plt.axvline(high, label='high', color='green');\n",
    "plt.legend();"
   ]
  },
  {
   "cell_type": "code",
   "execution_count": 14,
   "id": "d1b3874e-96ef-4e26-881b-e2e1433cbb15",
   "metadata": {},
   "outputs": [
    {
     "data": {
      "image/png": "[encoded data removed]",
      "text/plain": [
       "<Figure size 432x288 with 1 Axes>"
      ]
     },
     "metadata": {
      "needs_background": "light"
     },
     "output_type": "display_data"
    }
   ],
   "source": [
    "plt.axvline(m, label='mean', color='red');\n",
    "plt.axvline(low, label='low', color='green');\n",
    "plt.axvline(high, label='high', color='green');\n",
    "plt.axvline(0, label='zero', color='blue');\n",
    "plt.legend();"
   ]
  },
  {
   "cell_type": "code",
   "execution_count": null,
   "id": "48d8966b-f0dd-4929-9e14-a7dae5c0f732",
   "metadata": {},
   "outputs": [],
   "source": []
  }
 ],
 "metadata": {
  "kernelspec": {
   "display_name": "Python 3",
   "language": "python",
   "name": "python3"
  },
  "language_info": {
   "codemirror_mode": {
    "name": "ipython",
    "version": 3
   },
   "file_extension": ".py",
   "mimetype": "text/x-python",
   "name": "python",
   "nbconvert_exporter": "python",
   "pygments_lexer": "ipython3",
   "version": "3.8.10"
  }
 },
 "nbformat": 4,
 "nbformat_minor": 5
}
