{
 "cells": [
  {
   "cell_type": "code",
   "execution_count": 27,
   "id": "b90cd970-5a3d-4aaf-8e2d-0e6f9b844363",
   "metadata": {},
   "outputs": [],
   "source": [
    "from datetime import date, timedelta\n",
    "from scipy.stats import t\n",
    "import numpy as np\n",
    "import matplotlib.pyplot as plt\n",
    "import pandas as pd\n",
    "from sklearn.mixture import GaussianMixture\n",
    "from scipy.stats import norm"
   ]
  },
  {
   "cell_type": "code",
   "execution_count": 2,
   "id": "993f7ad4-fb58-4519-a4c3-8ded62cf6cda",
   "metadata": {},
   "outputs": [],
   "source": [
    "from src.core.repositories.stock_repository import get_repository, StockRepositoryConfig\n",
    "from server.config import config as server_config\n",
    "from src.core.lib.analysis.returns import returns"
   ]
  },
  {
   "cell_type": "code",
   "execution_count": 3,
   "id": "a8eea6e2-e872-4b7a-83ed-dd1143718ed6",
   "metadata": {},
   "outputs": [],
   "source": [
    "start = date.today() - timedelta(weeks=52)\n",
    "end = date.today()"
   ]
  },
  {
   "cell_type": "code",
   "execution_count": 4,
   "id": "0f2110c6-116a-4ccc-a0ae-59183ad40c37",
   "metadata": {},
   "outputs": [],
   "source": [
    "iex_config = server_config['sandbox']['iexcloud']\n",
    "mysql_config = server_config['sandbox']['db']"
   ]
  },
  {
   "cell_type": "code",
   "execution_count": 5,
   "id": "a064f524-af12-4642-8425-481b483262c0",
   "metadata": {},
   "outputs": [],
   "source": [
    "repo = get_repository(iex_config=iex_config, mysql_config=mysql_config)"
   ]
  },
  {
   "cell_type": "code",
   "execution_count": 12,
   "id": "af1bfcf2-97c7-4077-95dd-81718288d58c",
   "metadata": {
    "jupyter": {
     "source_hidden": true
    },
    "tags": []
   },
   "outputs": [],
   "source": [
    "sbux = repo.historical_daily('SBUX', start=start, end=end)"
   ]
  },
  {
   "cell_type": "code",
   "execution_count": 13,
   "id": "8dbdd1ac-781f-459d-9fed-b1bfdca4fc8b",
   "metadata": {
    "jupyter": {
     "source_hidden": true
    },
    "tags": []
   },
   "outputs": [
    {
     "data": {
      "text/html": [
       "<div>\n",
       "<style scoped>\n",
       "    .dataframe tbody tr th:only-of-type {\n",
       "        vertical-align: middle;\n",
       "    }\n",
       "\n",
       "    .dataframe tbody tr th {\n",
       "        vertical-align: top;\n",
       "    }\n",
       "\n",
       "    .dataframe thead th {\n",
       "        text-align: right;\n",
       "    }\n",
       "</style>\n",
       "<table border=\"1\" class=\"dataframe\">\n",
       "  <thead>\n",
       "    <tr style=\"text-align: right;\">\n",
       "      <th></th>\n",
       "      <th>SPY</th>\n",
       "      <th>AAPL</th>\n",
       "    </tr>\n",
       "    <tr>\n",
       "      <th>date</th>\n",
       "      <th></th>\n",
       "      <th></th>\n",
       "    </tr>\n",
       "  </thead>\n",
       "  <tbody>\n",
       "    <tr>\n",
       "      <th>2020-09-22</th>\n",
       "      <td>NaN</td>\n",
       "      <td>NaN</td>\n",
       "    </tr>\n",
       "    <tr>\n",
       "      <th>2020-09-23</th>\n",
       "      <td>-0.034756</td>\n",
       "      <td>-0.049586</td>\n",
       "    </tr>\n",
       "    <tr>\n",
       "      <th>2020-09-24</th>\n",
       "      <td>0.039077</td>\n",
       "      <td>0.006645</td>\n",
       "    </tr>\n",
       "    <tr>\n",
       "      <th>2020-09-25</th>\n",
       "      <td>-0.024018</td>\n",
       "      <td>0.017395</td>\n",
       "    </tr>\n",
       "    <tr>\n",
       "      <th>2020-09-28</th>\n",
       "      <td>0.034900</td>\n",
       "      <td>0.010434</td>\n",
       "    </tr>\n",
       "  </tbody>\n",
       "</table>\n",
       "</div>"
      ],
      "text/plain": [
       "                 SPY      AAPL\n",
       "date                          \n",
       "2020-09-22       NaN       NaN\n",
       "2020-09-23 -0.034756 -0.049586\n",
       "2020-09-24  0.039077  0.006645\n",
       "2020-09-25 -0.024018  0.017395\n",
       "2020-09-28  0.034900  0.010434"
      ]
     },
     "execution_count": 13,
     "metadata": {},
     "output_type": "execute_result"
    }
   ],
   "source": [
    "df.head()"
   ]
  },
  {
   "cell_type": "code",
   "execution_count": 14,
   "id": "7e53a411-c681-4763-a2b8-9f903cae5cb7",
   "metadata": {
    "tags": []
   },
   "outputs": [],
   "source": [
    "sbux = returns(sbux)"
   ]
  },
  {
   "cell_type": "code",
   "execution_count": 20,
   "id": "08eb3e56-d087-47db-a130-96d7b604ba52",
   "metadata": {
    "tags": []
   },
   "outputs": [],
   "source": [
    "values = sbux['log_return'].astype(float).dropna().to_numpy().reshape(-1, 1)"
   ]
  },
  {
   "cell_type": "code",
   "execution_count": 21,
   "id": "bc56a94c-fed1-4c18-85f6-8344026af5d3",
   "metadata": {},
   "outputs": [
    {
     "data": {
      "text/plain": [
       "GaussianMixture(n_components=2)"
      ]
     },
     "execution_count": 21,
     "metadata": {},
     "output_type": "execute_result"
    }
   ],
   "source": [
    "model = GaussianMixture(n_components=2)\n",
    "model.fit(values)"
   ]
  },
  {
   "cell_type": "code",
   "execution_count": 23,
   "id": "d648f1b9-4655-4d49-8909-af81f951b05d",
   "metadata": {},
   "outputs": [
    {
     "name": "stdout",
     "output_type": "stream",
     "text": [
      "weights: [0.37915508 0.62084492]\n",
      "means: [[ 0.02153984]\n",
      " [-0.01123071]]\n",
      "variances: [[[0.00028042]]\n",
      "\n",
      " [[0.00034137]]]\n"
     ]
    }
   ],
   "source": [
    "weights = model.weights_\n",
    "means = model.means_\n",
    "cov = model.covariances_\n",
    "\n",
    "print(\"weights: {0}\".format(weights))\n",
    "print(\"means: {0}\".format(means))\n",
    "print(\"variances: {0}\".format(cov))"
   ]
  },
  {
   "cell_type": "code",
   "execution_count": 24,
   "id": "9b8d4dae-7143-46fd-a31f-1afadfbb2392",
   "metadata": {},
   "outputs": [],
   "source": [
    "means = means.flatten()\n",
    "var = cov.flatten()"
   ]
  },
  {
   "cell_type": "code",
   "execution_count": 28,
   "id": "a669f710-4f39-442b-965e-c62c43142e63",
   "metadata": {},
   "outputs": [],
   "source": [
    "x_list = np.linspace(values.min(), values.max(), 100)\n",
    "fx0 = norm.pdf(x_list, means[0], np.sqrt(var[0]))\n",
    "fx1 = norm.pdf(x_list, means[1], np.sqrt(var[1]))\n",
    "fx = weights[0] * fx0 + weights[1] * fx1"
   ]
  },
  {
   "cell_type": "code",
   "execution_count": 29,
   "id": "ff119113-afca-402e-a0d3-e324bbffd036",
   "metadata": {},
   "outputs": [
    {
     "data": {
      "image/png": "[encoded data removed]",
      "text/plain": [
       "<Figure size 432x288 with 1 Axes>"
      ]
     },
     "metadata": {
      "needs_background": "light"
     },
     "output_type": "display_data"
    }
   ],
   "source": [
    "sbux['log_return'].hist(bins=100, density=True)\n",
    "plt.plot(x_list, fx, label='mixture model')\n",
    "plt.legend();"
   ]
  },
  {
   "cell_type": "code",
   "execution_count": null,
   "id": "73f90d4b-6f01-40c9-ba87-7a4519889d83",
   "metadata": {},
   "outputs": [],
   "source": []
  }
 ],
 "metadata": {
  "kernelspec": {
   "display_name": "Python 3",
   "language": "python",
   "name": "python3"
  },
  "language_info": {
   "codemirror_mode": {
    "name": "ipython",
    "version": 3
   },
   "file_extension": ".py",
   "mimetype": "text/x-python",
   "name": "python",
   "nbconvert_exporter": "python",
   "pygments_lexer": "ipython3",
   "version": "3.8.10"
  }
 },
 "nbformat": 4,
 "nbformat_minor": 5
}
