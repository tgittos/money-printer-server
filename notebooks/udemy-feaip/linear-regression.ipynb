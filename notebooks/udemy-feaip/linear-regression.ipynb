{
 "cells": [
  {
   "cell_type": "code",
   "execution_count": 3,
   "id": "b90cd970-5a3d-4aaf-8e2d-0e6f9b844363",
   "metadata": {},
   "outputs": [],
   "source": [
    "from datetime import date, timedelta\n",
    "from scipy.stats import t\n",
    "import numpy as np\n",
    "import matplotlib.pyplot as plt\n",
    "import pandas as pd\n",
    "from sklearn.linear_model import LinearRegression"
   ]
  },
  {
   "cell_type": "code",
   "execution_count": 4,
   "id": "993f7ad4-fb58-4519-a4c3-8ded62cf6cda",
   "metadata": {},
   "outputs": [],
   "source": [
    "from src.core.repositories.stock_repository import get_repository, StockRepositoryConfig\n",
    "from server.config import config as server_config\n",
    "from src.core.lib.analysis.returns import returns"
   ]
  },
  {
   "cell_type": "code",
   "execution_count": 5,
   "id": "a8eea6e2-e872-4b7a-83ed-dd1143718ed6",
   "metadata": {},
   "outputs": [],
   "source": [
    "start = date.today() - timedelta(weeks=52)\n",
    "end = date.today()"
   ]
  },
  {
   "cell_type": "code",
   "execution_count": 6,
   "id": "0f2110c6-116a-4ccc-a0ae-59183ad40c37",
   "metadata": {},
   "outputs": [],
   "source": [
    "iex_config = server_config['sandbox']['iexcloud']\n",
    "mysql_config = server_config['sandbox']['db']"
   ]
  },
  {
   "cell_type": "code",
   "execution_count": 7,
   "id": "a064f524-af12-4642-8425-481b483262c0",
   "metadata": {},
   "outputs": [],
   "source": [
    "repo = get_repository(iex_config=iex_config, mysql_config=mysql_config)"
   ]
  },
  {
   "cell_type": "code",
   "execution_count": 39,
   "id": "af1bfcf2-97c7-4077-95dd-81718288d58c",
   "metadata": {},
   "outputs": [],
   "source": [
    "spy = repo.historical_daily('SPY', start=start, end=end)\n",
    "aapl = repo.historical_daily('AAPL', start=start, end=end)"
   ]
  },
  {
   "cell_type": "code",
   "execution_count": 40,
   "id": "75ffdeec-04d7-4202-a927-0d91a1270e6d",
   "metadata": {},
   "outputs": [],
   "source": [
    "spy['prev'] = spy['close'].shift(1)\n",
    "spy['return'] = spy['close'] / spy['prev'] - 1\n",
    "\n",
    "aapl['prev'] = aapl['close'].shift(1)\n",
    "aapl['return'] = aapl['close'] / aapl['prev'] - 1"
   ]
  },
  {
   "cell_type": "code",
   "execution_count": 41,
   "id": "2e8a9bfb-c913-44d4-ba47-ff865932a847",
   "metadata": {},
   "outputs": [
    {
     "data": {
      "text/html": [
       "<div>\n",
       "<style scoped>\n",
       "    .dataframe tbody tr th:only-of-type {\n",
       "        vertical-align: middle;\n",
       "    }\n",
       "\n",
       "    .dataframe tbody tr th {\n",
       "        vertical-align: top;\n",
       "    }\n",
       "\n",
       "    .dataframe thead th {\n",
       "        text-align: right;\n",
       "    }\n",
       "</style>\n",
       "<table border=\"1\" class=\"dataframe\">\n",
       "  <thead>\n",
       "    <tr style=\"text-align: right;\">\n",
       "      <th></th>\n",
       "      <th>date</th>\n",
       "      <th>SPY</th>\n",
       "    </tr>\n",
       "  </thead>\n",
       "  <tbody>\n",
       "    <tr>\n",
       "      <th>0</th>\n",
       "      <td>2020-09-22</td>\n",
       "      <td>NaN</td>\n",
       "    </tr>\n",
       "    <tr>\n",
       "      <th>1</th>\n",
       "      <td>2020-09-23</td>\n",
       "      <td>-0.034756</td>\n",
       "    </tr>\n",
       "    <tr>\n",
       "      <th>2</th>\n",
       "      <td>2020-09-24</td>\n",
       "      <td>0.039077</td>\n",
       "    </tr>\n",
       "    <tr>\n",
       "      <th>3</th>\n",
       "      <td>2020-09-25</td>\n",
       "      <td>-0.024018</td>\n",
       "    </tr>\n",
       "    <tr>\n",
       "      <th>4</th>\n",
       "      <td>2020-09-28</td>\n",
       "      <td>0.034900</td>\n",
       "    </tr>\n",
       "    <tr>\n",
       "      <th>...</th>\n",
       "      <td>...</td>\n",
       "      <td>...</td>\n",
       "    </tr>\n",
       "    <tr>\n",
       "      <th>246</th>\n",
       "      <td>2021-09-14</td>\n",
       "      <td>0.028906</td>\n",
       "    </tr>\n",
       "    <tr>\n",
       "      <th>247</th>\n",
       "      <td>2021-09-15</td>\n",
       "      <td>-0.008325</td>\n",
       "    </tr>\n",
       "    <tr>\n",
       "      <th>248</th>\n",
       "      <td>2021-09-16</td>\n",
       "      <td>-0.012777</td>\n",
       "    </tr>\n",
       "    <tr>\n",
       "      <th>249</th>\n",
       "      <td>2021-09-17</td>\n",
       "      <td>0.008547</td>\n",
       "    </tr>\n",
       "    <tr>\n",
       "      <th>250</th>\n",
       "      <td>2021-09-20</td>\n",
       "      <td>-0.011786</td>\n",
       "    </tr>\n",
       "  </tbody>\n",
       "</table>\n",
       "<p>251 rows × 2 columns</p>\n",
       "</div>"
      ],
      "text/plain": [
       "          date       SPY\n",
       "0   2020-09-22       NaN\n",
       "1   2020-09-23 -0.034756\n",
       "2   2020-09-24  0.039077\n",
       "3   2020-09-25 -0.024018\n",
       "4   2020-09-28  0.034900\n",
       "..         ...       ...\n",
       "246 2021-09-14  0.028906\n",
       "247 2021-09-15 -0.008325\n",
       "248 2021-09-16 -0.012777\n",
       "249 2021-09-17  0.008547\n",
       "250 2021-09-20 -0.011786\n",
       "\n",
       "[251 rows x 2 columns]"
      ]
     },
     "execution_count": 41,
     "metadata": {},
     "output_type": "execute_result"
    }
   ],
   "source": [
    "spy_df = pd.DataFrame(data=spy[['date','return']])"
   ]
  },
  {
   "cell_type": "code",
   "execution_count": 42,
   "id": "9592a81b-02af-44a9-a8d7-e75d795da7b1",
   "metadata": {},
   "outputs": [
    {
     "data": {
      "text/html": [
       "<div>\n",
       "<style scoped>\n",
       "    .dataframe tbody tr th:only-of-type {\n",
       "        vertical-align: middle;\n",
       "    }\n",
       "\n",
       "    .dataframe tbody tr th {\n",
       "        vertical-align: top;\n",
       "    }\n",
       "\n",
       "    .dataframe thead th {\n",
       "        text-align: right;\n",
       "    }\n",
       "</style>\n",
       "<table border=\"1\" class=\"dataframe\">\n",
       "  <thead>\n",
       "    <tr style=\"text-align: right;\">\n",
       "      <th></th>\n",
       "      <th>return</th>\n",
       "    </tr>\n",
       "    <tr>\n",
       "      <th>date</th>\n",
       "      <th></th>\n",
       "    </tr>\n",
       "  </thead>\n",
       "  <tbody>\n",
       "    <tr>\n",
       "      <th>2020-09-22</th>\n",
       "      <td>NaN</td>\n",
       "    </tr>\n",
       "    <tr>\n",
       "      <th>2020-09-23</th>\n",
       "      <td>-0.049586</td>\n",
       "    </tr>\n",
       "    <tr>\n",
       "      <th>2020-09-24</th>\n",
       "      <td>0.006645</td>\n",
       "    </tr>\n",
       "    <tr>\n",
       "      <th>2020-09-25</th>\n",
       "      <td>0.017395</td>\n",
       "    </tr>\n",
       "    <tr>\n",
       "      <th>2020-09-28</th>\n",
       "      <td>0.010434</td>\n",
       "    </tr>\n",
       "    <tr>\n",
       "      <th>...</th>\n",
       "      <td>...</td>\n",
       "    </tr>\n",
       "    <tr>\n",
       "      <th>2021-09-14</th>\n",
       "      <td>-0.015351</td>\n",
       "    </tr>\n",
       "    <tr>\n",
       "      <th>2021-09-15</th>\n",
       "      <td>0.018364</td>\n",
       "    </tr>\n",
       "    <tr>\n",
       "      <th>2021-09-16</th>\n",
       "      <td>-0.018293</td>\n",
       "    </tr>\n",
       "    <tr>\n",
       "      <th>2021-09-17</th>\n",
       "      <td>0.005550</td>\n",
       "    </tr>\n",
       "    <tr>\n",
       "      <th>2021-09-20</th>\n",
       "      <td>-0.035024</td>\n",
       "    </tr>\n",
       "  </tbody>\n",
       "</table>\n",
       "<p>251 rows × 1 columns</p>\n",
       "</div>"
      ],
      "text/plain": [
       "              return\n",
       "date                \n",
       "2020-09-22       NaN\n",
       "2020-09-23 -0.049586\n",
       "2020-09-24  0.006645\n",
       "2020-09-25  0.017395\n",
       "2020-09-28  0.010434\n",
       "...              ...\n",
       "2021-09-14 -0.015351\n",
       "2021-09-15  0.018364\n",
       "2021-09-16 -0.018293\n",
       "2021-09-17  0.005550\n",
       "2021-09-20 -0.035024\n",
       "\n",
       "[251 rows x 1 columns]"
      ]
     },
     "execution_count": 42,
     "metadata": {},
     "output_type": "execute_result"
    }
   ],
   "source": [
    "aapl_df = pd.DataFrame(data=aapl[['date','return']])"
   ]
  },
  {
   "cell_type": "code",
   "execution_count": 49,
   "id": "00dcfeb3-5db3-4734-b6cc-ec1389527937",
   "metadata": {},
   "outputs": [],
   "source": [
    "df = spy_df.copy()\n",
    "df['AAPL'] = aapl_df['return']\n",
    "df = df.set_index('date')\n",
    "df = df.rename(columns={'return': 'SPY'})"
   ]
  },
  {
   "cell_type": "code",
   "execution_count": 50,
   "id": "8dbdd1ac-781f-459d-9fed-b1bfdca4fc8b",
   "metadata": {},
   "outputs": [
    {
     "data": {
      "text/html": [
       "<div>\n",
       "<style scoped>\n",
       "    .dataframe tbody tr th:only-of-type {\n",
       "        vertical-align: middle;\n",
       "    }\n",
       "\n",
       "    .dataframe tbody tr th {\n",
       "        vertical-align: top;\n",
       "    }\n",
       "\n",
       "    .dataframe thead th {\n",
       "        text-align: right;\n",
       "    }\n",
       "</style>\n",
       "<table border=\"1\" class=\"dataframe\">\n",
       "  <thead>\n",
       "    <tr style=\"text-align: right;\">\n",
       "      <th></th>\n",
       "      <th>SPY</th>\n",
       "      <th>AAPL</th>\n",
       "    </tr>\n",
       "    <tr>\n",
       "      <th>date</th>\n",
       "      <th></th>\n",
       "      <th></th>\n",
       "    </tr>\n",
       "  </thead>\n",
       "  <tbody>\n",
       "    <tr>\n",
       "      <th>2020-09-22</th>\n",
       "      <td>NaN</td>\n",
       "      <td>NaN</td>\n",
       "    </tr>\n",
       "    <tr>\n",
       "      <th>2020-09-23</th>\n",
       "      <td>-0.034756</td>\n",
       "      <td>-0.049586</td>\n",
       "    </tr>\n",
       "    <tr>\n",
       "      <th>2020-09-24</th>\n",
       "      <td>0.039077</td>\n",
       "      <td>0.006645</td>\n",
       "    </tr>\n",
       "    <tr>\n",
       "      <th>2020-09-25</th>\n",
       "      <td>-0.024018</td>\n",
       "      <td>0.017395</td>\n",
       "    </tr>\n",
       "    <tr>\n",
       "      <th>2020-09-28</th>\n",
       "      <td>0.034900</td>\n",
       "      <td>0.010434</td>\n",
       "    </tr>\n",
       "  </tbody>\n",
       "</table>\n",
       "</div>"
      ],
      "text/plain": [
       "                 SPY      AAPL\n",
       "date                          \n",
       "2020-09-22       NaN       NaN\n",
       "2020-09-23 -0.034756 -0.049586\n",
       "2020-09-24  0.039077  0.006645\n",
       "2020-09-25 -0.024018  0.017395\n",
       "2020-09-28  0.034900  0.010434"
      ]
     },
     "execution_count": 50,
     "metadata": {},
     "output_type": "execute_result"
    }
   ],
   "source": [
    "df.head()"
   ]
  },
  {
   "cell_type": "code",
   "execution_count": 51,
   "id": "46b4803a-d1db-4398-bf48-5fe548b3f718",
   "metadata": {},
   "outputs": [
    {
     "data": {
      "text/plain": [
       "<AxesSubplot:xlabel='date'>"
      ]
     },
     "execution_count": 51,
     "metadata": {},
     "output_type": "execute_result"
    },
    {
     "data": {
      "image/png": "[encoded data removed]",
      "text/plain": [
       "<Figure size 720x360 with 1 Axes>"
      ]
     },
     "metadata": {
      "needs_background": "light"
     },
     "output_type": "display_data"
    }
   ],
   "source": [
    "df.iloc[100:150].plot(figsize=(10,5))"
   ]
  },
  {
   "cell_type": "code",
   "execution_count": 52,
   "id": "bc56a94c-fed1-4c18-85f6-8344026af5d3",
   "metadata": {},
   "outputs": [
    {
     "data": {
      "text/plain": [
       "<AxesSubplot:xlabel='SPY', ylabel='AAPL'>"
      ]
     },
     "execution_count": 52,
     "metadata": {},
     "output_type": "execute_result"
    },
    {
     "data": {
      "image/png": "[encoded data removed]",
      "text/plain": [
       "<Figure size 432x288 with 1 Axes>"
      ]
     },
     "metadata": {
      "needs_background": "light"
     },
     "output_type": "display_data"
    }
   ],
   "source": [
    "df.plot.scatter('SPY', 'AAPL')"
   ]
  },
  {
   "cell_type": "code",
   "execution_count": 53,
   "id": "d648f1b9-4655-4d49-8909-af81f951b05d",
   "metadata": {},
   "outputs": [],
   "source": [
    "df.dropna(inplace=True)\n",
    "X = df[['SPY']].to_numpy()\n",
    "Y = df[['AAPL']].to_numpy()"
   ]
  },
  {
   "cell_type": "code",
   "execution_count": 54,
   "id": "839a127f-da10-4768-9d06-49bc1a53d771",
   "metadata": {},
   "outputs": [
    {
     "data": {
      "text/plain": [
       "((250, 1), (250, 1))"
      ]
     },
     "execution_count": 54,
     "metadata": {},
     "output_type": "execute_result"
    }
   ],
   "source": [
    "X.shape, Y.shape"
   ]
  },
  {
   "cell_type": "code",
   "execution_count": 55,
   "id": "4f35029d-1add-4a48-a4b0-c767bf5ea216",
   "metadata": {},
   "outputs": [
    {
     "data": {
      "text/plain": [
       "<matplotlib.collections.PathCollection at 0x7fc7eac074c0>"
      ]
     },
     "execution_count": 55,
     "metadata": {},
     "output_type": "execute_result"
    },
    {
     "data": {
      "image/png": "[encoded data removed]",
      "text/plain": [
       "<Figure size 432x288 with 1 Axes>"
      ]
     },
     "metadata": {
      "needs_background": "light"
     },
     "output_type": "display_data"
    }
   ],
   "source": [
    "plt.scatter(X, Y)"
   ]
  },
  {
   "cell_type": "code",
   "execution_count": 56,
   "id": "7507333b-4489-4391-97e0-28a4ff28e3ab",
   "metadata": {},
   "outputs": [
    {
     "data": {
      "text/plain": [
       "LinearRegression()"
      ]
     },
     "execution_count": 56,
     "metadata": {},
     "output_type": "execute_result"
    }
   ],
   "source": [
    "model = LinearRegression()\n",
    "model.fit(X, Y)"
   ]
  },
  {
   "cell_type": "code",
   "execution_count": 57,
   "id": "9dc6833b-ca6b-4f70-8679-82a4c5739ff7",
   "metadata": {},
   "outputs": [],
   "source": [
    "X_predict = np.linspace(X.min(), X.max(), 5).reshape(-1, 1)\n",
    "Y_predict = model.predict(X_predict)"
   ]
  },
  {
   "cell_type": "code",
   "execution_count": 58,
   "id": "e156dbf3-79e3-4606-a6f2-a143d42b17f6",
   "metadata": {},
   "outputs": [
    {
     "data": {
      "image/png": "[encoded data removed]",
      "text/plain": [
       "<Figure size 432x288 with 1 Axes>"
      ]
     },
     "metadata": {
      "needs_background": "light"
     },
     "output_type": "display_data"
    }
   ],
   "source": [
    "plt.scatter(X, Y);\n",
    "plt.xlabel('SPY');\n",
    "plt.ylabel('AAPK');\n",
    "plt.plot(X_predict, Y_predict);"
   ]
  },
  {
   "cell_type": "code",
   "execution_count": 59,
   "id": "280f3f35-efd5-4464-b011-9c9e9db50ff9",
   "metadata": {},
   "outputs": [
    {
     "data": {
      "text/plain": [
       "(array([0.00089532]), array([[0.25235199]]))"
      ]
     },
     "execution_count": 59,
     "metadata": {},
     "output_type": "execute_result"
    }
   ],
   "source": [
    "beta = model.coef_\n",
    "alpha = model.intercept_\n",
    "alpha, beta"
   ]
  },
  {
   "cell_type": "code",
   "execution_count": 60,
   "id": "4082a464-d3c9-47fe-81ee-a22cb2e5e03d",
   "metadata": {},
   "outputs": [
    {
     "data": {
      "text/plain": [
       "SPY     0.020455\n",
       "AAPL    0.026252\n",
       "dtype: float64"
      ]
     },
     "execution_count": 60,
     "metadata": {},
     "output_type": "execute_result"
    }
   ],
   "source": [
    "df.std()"
   ]
  },
  {
   "cell_type": "code",
   "execution_count": 61,
   "id": "e8246f74-3ad0-4441-91c7-ed3a35b2d768",
   "metadata": {},
   "outputs": [
    {
     "data": {
      "text/plain": [
       "1.2834178876021058"
      ]
     },
     "execution_count": 61,
     "metadata": {},
     "output_type": "execute_result"
    }
   ],
   "source": [
    "df['AAPL'].std() / df['SPY'].std()"
   ]
  },
  {
   "cell_type": "code",
   "execution_count": null,
   "id": "9b8d4dae-7143-46fd-a31f-1afadfbb2392",
   "metadata": {},
   "outputs": [],
   "source": []
  }
 ],
 "metadata": {
  "kernelspec": {
   "display_name": "Python 3",
   "language": "python",
   "name": "python3"
  },
  "language_info": {
   "codemirror_mode": {
    "name": "ipython",
    "version": 3
   },
   "file_extension": ".py",
   "mimetype": "text/x-python",
   "name": "python",
   "nbconvert_exporter": "python",
   "pygments_lexer": "ipython3",
   "version": "3.8.10"
  }
 },
 "nbformat": 4,
 "nbformat_minor": 5
}
