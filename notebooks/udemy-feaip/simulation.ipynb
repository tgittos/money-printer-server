{
 "cells": [
  {
   "cell_type": "code",
   "execution_count": 1,
   "id": "9a5edbb9-2d42-4fe4-9dc4-1835f0e3775f",
   "metadata": {},
   "outputs": [],
   "source": [
    "from datetime import date, timedelta\n",
    "from scipy.stats import t\n",
    "import numpy as np\n",
    "import matplotlib.pyplot as plt\n",
    "import pandas as pd"
   ]
  },
  {
   "cell_type": "code",
   "execution_count": 2,
   "id": "dd3a499d-a164-4146-84fe-af41a448671c",
   "metadata": {},
   "outputs": [],
   "source": [
    "from src.core.repositories.stock_repository import get_repository, StockRepositoryConfig\n",
    "from server.config import config as server_config\n",
    "from src.core.lib.analysis.returns import returns"
   ]
  },
  {
   "cell_type": "code",
   "execution_count": 3,
   "id": "6551e10d-203b-4b29-a8e2-04f22e485d4c",
   "metadata": {},
   "outputs": [],
   "source": [
    "start = date.today() - timedelta(weeks=52)\n",
    "end = date.today()"
   ]
  },
  {
   "cell_type": "code",
   "execution_count": 4,
   "id": "a251a1e1-0955-47c0-8151-193a4b25813b",
   "metadata": {},
   "outputs": [],
   "source": [
    "iex_config = server_config['sandbox']['iexcloud']\n",
    "mysql_config = server_config['sandbox']['db']"
   ]
  },
  {
   "cell_type": "code",
   "execution_count": 5,
   "id": "7fb4aba0-4ca3-45c4-9e43-33b2f3099d92",
   "metadata": {},
   "outputs": [],
   "source": [
    "repo = get_repository(iex_config=iex_config, mysql_config=mysql_config)"
   ]
  },
  {
   "cell_type": "code",
   "execution_count": 6,
   "id": "f66db6d4-a20e-4fcd-a7c9-1521e746c252",
   "metadata": {},
   "outputs": [],
   "source": [
    "sbux = repo.historical_daily('SBUX', start=start, end=end)"
   ]
  },
  {
   "cell_type": "code",
   "execution_count": 7,
   "id": "d76d6cd5-e99d-47a6-9f28-1afc5dff4193",
   "metadata": {},
   "outputs": [],
   "source": [
    "sbux = returns(sbux)"
   ]
  },
  {
   "cell_type": "code",
   "execution_count": 8,
   "id": "1a4dddd3-8374-4703-a489-0039e56b1373",
   "metadata": {},
   "outputs": [
    {
     "data": {
      "text/html": [
       "<div>\n",
       "<style scoped>\n",
       "    .dataframe tbody tr th:only-of-type {\n",
       "        vertical-align: middle;\n",
       "    }\n",
       "\n",
       "    .dataframe tbody tr th {\n",
       "        vertical-align: top;\n",
       "    }\n",
       "\n",
       "    .dataframe thead th {\n",
       "        text-align: right;\n",
       "    }\n",
       "</style>\n",
       "<table border=\"1\" class=\"dataframe\">\n",
       "  <thead>\n",
       "    <tr style=\"text-align: right;\">\n",
       "      <th></th>\n",
       "      <th>id</th>\n",
       "      <th>symbol</th>\n",
       "      <th>high</th>\n",
       "      <th>low</th>\n",
       "      <th>open</th>\n",
       "      <th>close</th>\n",
       "      <th>volume</th>\n",
       "      <th>u_high</th>\n",
       "      <th>u_low</th>\n",
       "      <th>u_close</th>\n",
       "      <th>...</th>\n",
       "      <th>date</th>\n",
       "      <th>change</th>\n",
       "      <th>change_percent</th>\n",
       "      <th>change_over_time</th>\n",
       "      <th>market_change_over_time</th>\n",
       "      <th>resolution</th>\n",
       "      <th>timestamp</th>\n",
       "      <th>prev_close</th>\n",
       "      <th>return</th>\n",
       "      <th>log_return</th>\n",
       "    </tr>\n",
       "  </thead>\n",
       "  <tbody>\n",
       "    <tr>\n",
       "      <th>0</th>\n",
       "      <td>2</td>\n",
       "      <td>SBUX</td>\n",
       "      <td>88.60</td>\n",
       "      <td>83.432</td>\n",
       "      <td>85.72</td>\n",
       "      <td>87.22</td>\n",
       "      <td>4585223</td>\n",
       "      <td>86.29</td>\n",
       "      <td>83.983</td>\n",
       "      <td>84.23</td>\n",
       "      <td>...</td>\n",
       "      <td>2020-09-22</td>\n",
       "      <td>0.061767</td>\n",
       "      <td>0.0007</td>\n",
       "      <td>0.000731</td>\n",
       "      <td>0.000732</td>\n",
       "      <td>daily</td>\n",
       "      <td>2021-09-20 16:37:19</td>\n",
       "      <td>NaN</td>\n",
       "      <td>NaN</td>\n",
       "      <td>NaN</td>\n",
       "    </tr>\n",
       "    <tr>\n",
       "      <th>1</th>\n",
       "      <td>3</td>\n",
       "      <td>SBUX</td>\n",
       "      <td>86.90</td>\n",
       "      <td>84.840</td>\n",
       "      <td>84.84</td>\n",
       "      <td>85.95</td>\n",
       "      <td>6489244</td>\n",
       "      <td>87.30</td>\n",
       "      <td>85.160</td>\n",
       "      <td>84.75</td>\n",
       "      <td>...</td>\n",
       "      <td>2020-09-23</td>\n",
       "      <td>-1.005530</td>\n",
       "      <td>-0.0115</td>\n",
       "      <td>-0.011038</td>\n",
       "      <td>-0.011042</td>\n",
       "      <td>daily</td>\n",
       "      <td>2021-09-20 16:37:19</td>\n",
       "      <td>87.22</td>\n",
       "      <td>-0.014561</td>\n",
       "      <td>-0.014668</td>\n",
       "    </tr>\n",
       "    <tr>\n",
       "      <th>2</th>\n",
       "      <td>4</td>\n",
       "      <td>SBUX</td>\n",
       "      <td>86.24</td>\n",
       "      <td>83.030</td>\n",
       "      <td>83.03</td>\n",
       "      <td>85.05</td>\n",
       "      <td>4931004</td>\n",
       "      <td>84.87</td>\n",
       "      <td>83.060</td>\n",
       "      <td>84.51</td>\n",
       "      <td>...</td>\n",
       "      <td>2020-09-24</td>\n",
       "      <td>0.050579</td>\n",
       "      <td>0.0006</td>\n",
       "      <td>-0.010325</td>\n",
       "      <td>-0.010578</td>\n",
       "      <td>daily</td>\n",
       "      <td>2021-09-20 16:37:19</td>\n",
       "      <td>85.95</td>\n",
       "      <td>-0.010471</td>\n",
       "      <td>-0.010526</td>\n",
       "    </tr>\n",
       "    <tr>\n",
       "      <th>3</th>\n",
       "      <td>5</td>\n",
       "      <td>SBUX</td>\n",
       "      <td>88.51</td>\n",
       "      <td>84.070</td>\n",
       "      <td>84.08</td>\n",
       "      <td>85.00</td>\n",
       "      <td>6075176</td>\n",
       "      <td>86.72</td>\n",
       "      <td>83.440</td>\n",
       "      <td>86.60</td>\n",
       "      <td>...</td>\n",
       "      <td>2020-09-25</td>\n",
       "      <td>1.297740</td>\n",
       "      <td>0.0158</td>\n",
       "      <td>0.005077</td>\n",
       "      <td>0.005055</td>\n",
       "      <td>daily</td>\n",
       "      <td>2021-09-20 16:37:19</td>\n",
       "      <td>85.05</td>\n",
       "      <td>-0.000588</td>\n",
       "      <td>-0.000588</td>\n",
       "    </tr>\n",
       "    <tr>\n",
       "      <th>4</th>\n",
       "      <td>6</td>\n",
       "      <td>SBUX</td>\n",
       "      <td>88.18</td>\n",
       "      <td>85.770</td>\n",
       "      <td>88.18</td>\n",
       "      <td>87.78</td>\n",
       "      <td>6105858</td>\n",
       "      <td>89.11</td>\n",
       "      <td>85.250</td>\n",
       "      <td>86.65</td>\n",
       "      <td>...</td>\n",
       "      <td>2020-09-28</td>\n",
       "      <td>1.792870</td>\n",
       "      <td>0.0220</td>\n",
       "      <td>0.027044</td>\n",
       "      <td>0.026024</td>\n",
       "      <td>daily</td>\n",
       "      <td>2021-09-20 16:37:19</td>\n",
       "      <td>85.00</td>\n",
       "      <td>0.032706</td>\n",
       "      <td>0.032182</td>\n",
       "    </tr>\n",
       "  </tbody>\n",
       "</table>\n",
       "<p>5 rows × 21 columns</p>\n",
       "</div>"
      ],
      "text/plain": [
       "   id symbol   high     low   open  close   volume  u_high   u_low  u_close  \\\n",
       "0   2   SBUX  88.60  83.432  85.72  87.22  4585223   86.29  83.983    84.23   \n",
       "1   3   SBUX  86.90  84.840  84.84  85.95  6489244   87.30  85.160    84.75   \n",
       "2   4   SBUX  86.24  83.030  83.03  85.05  4931004   84.87  83.060    84.51   \n",
       "3   5   SBUX  88.51  84.070  84.08  85.00  6075176   86.72  83.440    86.60   \n",
       "4   6   SBUX  88.18  85.770  88.18  87.78  6105858   89.11  85.250    86.65   \n",
       "\n",
       "   ...       date    change  change_percent  change_over_time  \\\n",
       "0  ... 2020-09-22  0.061767          0.0007          0.000731   \n",
       "1  ... 2020-09-23 -1.005530         -0.0115         -0.011038   \n",
       "2  ... 2020-09-24  0.050579          0.0006         -0.010325   \n",
       "3  ... 2020-09-25  1.297740          0.0158          0.005077   \n",
       "4  ... 2020-09-28  1.792870          0.0220          0.027044   \n",
       "\n",
       "   market_change_over_time  resolution           timestamp prev_close  \\\n",
       "0                 0.000732       daily 2021-09-20 16:37:19        NaN   \n",
       "1                -0.011042       daily 2021-09-20 16:37:19      87.22   \n",
       "2                -0.010578       daily 2021-09-20 16:37:19      85.95   \n",
       "3                 0.005055       daily 2021-09-20 16:37:19      85.05   \n",
       "4                 0.026024       daily 2021-09-20 16:37:19      85.00   \n",
       "\n",
       "     return  log_return  \n",
       "0       NaN         NaN  \n",
       "1 -0.014561   -0.014668  \n",
       "2 -0.010471   -0.010526  \n",
       "3 -0.000588   -0.000588  \n",
       "4  0.032706    0.032182  \n",
       "\n",
       "[5 rows x 21 columns]"
      ]
     },
     "execution_count": 8,
     "metadata": {},
     "output_type": "execute_result"
    }
   ],
   "source": [
    "sbux.head()"
   ]
  },
  {
   "cell_type": "code",
   "execution_count": 9,
   "id": "6c376c1f-d16f-4dc6-a708-6ae1a6da9f32",
   "metadata": {},
   "outputs": [],
   "source": [
    "x_list = np.linspace(\n",
    "    sbux['return'].min(),\n",
    "    sbux['return'].max(),\n",
    "    100)"
   ]
  },
  {
   "cell_type": "code",
   "execution_count": 10,
   "id": "afb3b352-337c-4a2b-85af-d3ca40a3357b",
   "metadata": {},
   "outputs": [],
   "source": [
    "df, loc, scale = t.fit(sbux['return'].astype(float).dropna())"
   ]
  },
  {
   "cell_type": "code",
   "execution_count": 11,
   "id": "e8b79758-4c79-4b65-991d-d5b209cfad58",
   "metadata": {},
   "outputs": [],
   "source": [
    "p0 = sbux.iloc[-1]['close']\n",
    "prices = [p0]\n",
    "# simulate 100 days\n",
    "for _ in range(100):\n",
    "    r = t.rvs(df, loc, scale)\n",
    "    p = prices[-1] * (1 + r)\n",
    "    prices.append(p)"
   ]
  },
  {
   "cell_type": "code",
   "execution_count": 12,
   "id": "137debb2-95dd-4fbb-9d54-67f22d46fb80",
   "metadata": {},
   "outputs": [
    {
     "data": {
      "image/png": "[encoded data removed]",
      "text/plain": [
       "<Figure size 432x288 with 1 Axes>"
      ]
     },
     "metadata": {
      "needs_background": "light"
     },
     "output_type": "display_data"
    }
   ],
   "source": [
    "plt.plot(prices);"
   ]
  },
  {
   "cell_type": "code",
   "execution_count": null,
   "id": "95d63340-e5fa-4f51-b851-3f9a810d9f03",
   "metadata": {},
   "outputs": [],
   "source": []
  }
 ],
 "metadata": {
  "kernelspec": {
   "display_name": "Python 3",
   "language": "python",
   "name": "python3"
  },
  "language_info": {
   "codemirror_mode": {
    "name": "ipython",
    "version": 3
   },
   "file_extension": ".py",
   "mimetype": "text/x-python",
   "name": "python",
   "nbconvert_exporter": "python",
   "pygments_lexer": "ipython3",
   "version": "3.8.10"
  }
 },
 "nbformat": 4,
 "nbformat_minor": 5
}
