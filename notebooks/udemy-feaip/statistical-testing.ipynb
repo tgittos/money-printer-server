{
 "cells": [
  {
   "cell_type": "code",
   "execution_count": 13,
   "id": "5b62bc30-a930-4e5c-9be9-19b0ef8bef94",
   "metadata": {},
   "outputs": [],
   "source": [
    "from datetime import date, timedelta\n",
    "from scipy.stats import t, jarque_bera, normaltest, kstest\n",
    "import numpy as np\n",
    "import matplotlib.pyplot as plt\n",
    "import pandas as pd"
   ]
  },
  {
   "cell_type": "code",
   "execution_count": 2,
   "id": "e9b74472-1932-44bd-9260-9f344421c604",
   "metadata": {},
   "outputs": [],
   "source": [
    "from src.core.repositories.stock_repository import get_repository, StockRepositoryConfig\n",
    "from server.config import config as server_config\n",
    "from src.core.lib.analysis.returns import returns"
   ]
  },
  {
   "cell_type": "code",
   "execution_count": 3,
   "id": "d834d977-c3fd-4282-b37c-e16bb38d23cd",
   "metadata": {},
   "outputs": [],
   "source": [
    "start = date.today() - timedelta(weeks=52)\n",
    "end = date.today()"
   ]
  },
  {
   "cell_type": "code",
   "execution_count": 4,
   "id": "44083a09-e00e-43fd-a76b-299019a4f5fa",
   "metadata": {},
   "outputs": [],
   "source": [
    "iex_config = server_config['sandbox']['iexcloud']\n",
    "mysql_config = server_config['sandbox']['db']"
   ]
  },
  {
   "cell_type": "code",
   "execution_count": 5,
   "id": "93b2838b-2a14-4e65-acfe-d42854729665",
   "metadata": {},
   "outputs": [],
   "source": [
    "repo = get_repository(iex_config=iex_config, mysql_config=mysql_config)"
   ]
  },
  {
   "cell_type": "code",
   "execution_count": 6,
   "id": "9f03ed93-ca6b-4b9a-b706-36e31419d35b",
   "metadata": {},
   "outputs": [],
   "source": [
    "sbux = repo.historical_daily('SBUX', start=start, end=end)"
   ]
  },
  {
   "cell_type": "code",
   "execution_count": 7,
   "id": "6e53249c-bb52-43e1-b343-fe690af27a0f",
   "metadata": {},
   "outputs": [],
   "source": [
    "sbux = returns(sbux)"
   ]
  },
  {
   "cell_type": "code",
   "execution_count": 8,
   "id": "04bb5f1f-99d6-469d-9ec8-6d873f422ac2",
   "metadata": {},
   "outputs": [],
   "source": [
    "values = sbux['return'].astype(float).dropna().to_numpy()"
   ]
  },
  {
   "cell_type": "code",
   "execution_count": 9,
   "id": "d6be3ba9-f4f7-4276-9b31-2ff788229a7c",
   "metadata": {},
   "outputs": [
    {
     "data": {
      "text/plain": [
       "Jarque_beraResult(statistic=0.0499539852339013, pvalue=0.9753323516152076)"
      ]
     },
     "execution_count": 9,
     "metadata": {},
     "output_type": "execute_result"
    }
   ],
   "source": [
    "jarque_bera(values)"
   ]
  },
  {
   "cell_type": "code",
   "execution_count": 10,
   "id": "25400f58-af14-4a03-a0c1-bac22c57767a",
   "metadata": {},
   "outputs": [
    {
     "data": {
      "text/plain": [
       "NormaltestResult(statistic=0.0334734890516141, pvalue=0.9834025366624197)"
      ]
     },
     "execution_count": 10,
     "metadata": {},
     "output_type": "execute_result"
    }
   ],
   "source": [
    "normaltest(values)"
   ]
  },
  {
   "cell_type": "code",
   "execution_count": 11,
   "id": "28975313-3a57-4612-a99f-a7b3329b4a34",
   "metadata": {},
   "outputs": [
    {
     "data": {
      "text/plain": [
       "NormaltestResult(statistic=0.12464440495364905, pvalue=0.9395801029785065)"
      ]
     },
     "execution_count": 11,
     "metadata": {},
     "output_type": "execute_result"
    }
   ],
   "source": [
    "normaltest(sbux['log_return'].astype(float).dropna())"
   ]
  },
  {
   "cell_type": "code",
   "execution_count": 14,
   "id": "fc5a178f-8439-43e3-bc11-acd217ad4e35",
   "metadata": {},
   "outputs": [],
   "source": [
    "df, loc, scale = t.fit(values)"
   ]
  },
  {
   "cell_type": "code",
   "execution_count": 15,
   "id": "0e1ea2a7-16e9-4050-9b49-625a8baa9e21",
   "metadata": {},
   "outputs": [
    {
     "data": {
      "text/plain": [
       "KstestResult(statistic=0.04827976797043221, pvalue=0.5875610969850087)"
      ]
     },
     "execution_count": 15,
     "metadata": {},
     "output_type": "execute_result"
    }
   ],
   "source": [
    "def cdf(x):\n",
    "    return t.cdf(x, df, loc, scale)\n",
    "\n",
    "kstest(values, cdf)"
   ]
  },
  {
   "cell_type": "code",
   "execution_count": 16,
   "id": "578019b3-276e-4bf5-b7e7-4799aa7813f8",
   "metadata": {},
   "outputs": [
    {
     "data": {
      "text/plain": [
       "KstestResult(statistic=0.04849125025067158, pvalue=0.581996623077851)"
      ]
     },
     "execution_count": 16,
     "metadata": {},
     "output_type": "execute_result"
    }
   ],
   "source": [
    "kstest(sbux['log_return'].astype(float).dropna(), cdf)"
   ]
  },
  {
   "cell_type": "code",
   "execution_count": null,
   "id": "2d641e08-d079-43e5-afbf-2832492f6140",
   "metadata": {},
   "outputs": [],
   "source": []
  }
 ],
 "metadata": {
  "kernelspec": {
   "display_name": "Python 3",
   "language": "python",
   "name": "python3"
  },
  "language_info": {
   "codemirror_mode": {
    "name": "ipython",
    "version": 3
   },
   "file_extension": ".py",
   "mimetype": "text/x-python",
   "name": "python",
   "nbconvert_exporter": "python",
   "pygments_lexer": "ipython3",
   "version": "3.8.10"
  }
 },
 "nbformat": 4,
 "nbformat_minor": 5
}
