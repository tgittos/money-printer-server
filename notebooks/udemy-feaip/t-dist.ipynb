{
 "cells": [
  {
   "cell_type": "code",
   "execution_count": 31,
   "id": "803e1f5e-3af8-4377-8415-4477bd81d1f8",
   "metadata": {},
   "outputs": [],
   "source": [
    "from datetime import date, timedelta\n",
    "from scipy.stats import t\n",
    "import numpy as np\n",
    "import matplotlib.pyplot as plt\n",
    "import pandas as pd"
   ]
  },
  {
   "cell_type": "code",
   "execution_count": 2,
   "id": "53e240fd-62ba-45fc-aa5d-afe2e3f1e56a",
   "metadata": {},
   "outputs": [],
   "source": [
    "from src.core.repositories.stock_repository import get_repository, StockRepositoryConfig\n",
    "from server.config import config as server_config\n",
    "from src.core.lib.analysis.returns import returns"
   ]
  },
  {
   "cell_type": "code",
   "execution_count": 3,
   "id": "ee921778-9034-4dff-a99b-ca75d3242be9",
   "metadata": {},
   "outputs": [],
   "source": [
    "start = date.today() - timedelta(weeks=52)\n",
    "end = date.today()"
   ]
  },
  {
   "cell_type": "code",
   "execution_count": 4,
   "id": "7ee4809a-f1fe-4657-a37c-a272f3530599",
   "metadata": {},
   "outputs": [],
   "source": [
    "iex_config = server_config['sandbox']['iexcloud']\n",
    "mysql_config = server_config['sandbox']['db']"
   ]
  },
  {
   "cell_type": "code",
   "execution_count": 5,
   "id": "2159857f-302b-463b-8aef-f351d0d95fad",
   "metadata": {},
   "outputs": [],
   "source": [
    "repo = get_repository(iex_config=iex_config, mysql_config=mysql_config)"
   ]
  },
  {
   "cell_type": "code",
   "execution_count": 6,
   "id": "db8c9c82-64ef-43e1-a174-a7e1b61ec368",
   "metadata": {},
   "outputs": [],
   "source": [
    "sbux = repo.historical_daily('SBUX', start=start, end=end)"
   ]
  },
  {
   "cell_type": "code",
   "execution_count": 7,
   "id": "354eb2b5-8294-4877-8e78-9d5709fb5516",
   "metadata": {},
   "outputs": [],
   "source": [
    "sbux = returns(sbux)"
   ]
  },
  {
   "cell_type": "code",
   "execution_count": 8,
   "id": "9a0fd347-45cc-45cd-868a-2a3b949b1845",
   "metadata": {},
   "outputs": [
    {
     "data": {
      "text/html": [
       "<div>\n",
       "<style scoped>\n",
       "    .dataframe tbody tr th:only-of-type {\n",
       "        vertical-align: middle;\n",
       "    }\n",
       "\n",
       "    .dataframe tbody tr th {\n",
       "        vertical-align: top;\n",
       "    }\n",
       "\n",
       "    .dataframe thead th {\n",
       "        text-align: right;\n",
       "    }\n",
       "</style>\n",
       "<table border=\"1\" class=\"dataframe\">\n",
       "  <thead>\n",
       "    <tr style=\"text-align: right;\">\n",
       "      <th></th>\n",
       "      <th>id</th>\n",
       "      <th>symbol</th>\n",
       "      <th>high</th>\n",
       "      <th>low</th>\n",
       "      <th>open</th>\n",
       "      <th>close</th>\n",
       "      <th>volume</th>\n",
       "      <th>u_high</th>\n",
       "      <th>u_low</th>\n",
       "      <th>u_close</th>\n",
       "      <th>...</th>\n",
       "      <th>date</th>\n",
       "      <th>change</th>\n",
       "      <th>change_percent</th>\n",
       "      <th>change_over_time</th>\n",
       "      <th>market_change_over_time</th>\n",
       "      <th>resolution</th>\n",
       "      <th>timestamp</th>\n",
       "      <th>prev_close</th>\n",
       "      <th>return</th>\n",
       "      <th>log_return</th>\n",
       "    </tr>\n",
       "  </thead>\n",
       "  <tbody>\n",
       "    <tr>\n",
       "      <th>0</th>\n",
       "      <td>1</td>\n",
       "      <td>SBUX</td>\n",
       "      <td>87.07</td>\n",
       "      <td>83.340</td>\n",
       "      <td>83.75</td>\n",
       "      <td>87.07</td>\n",
       "      <td>7291930</td>\n",
       "      <td>86.52</td>\n",
       "      <td>85.510</td>\n",
       "      <td>83.99</td>\n",
       "      <td>...</td>\n",
       "      <td>2020-09-21</td>\n",
       "      <td>0.000000</td>\n",
       "      <td>0.0000</td>\n",
       "      <td>0.000000</td>\n",
       "      <td>0.000000</td>\n",
       "      <td>daily</td>\n",
       "      <td>2021-09-20 16:37:19</td>\n",
       "      <td>NaN</td>\n",
       "      <td>NaN</td>\n",
       "      <td>NaN</td>\n",
       "    </tr>\n",
       "    <tr>\n",
       "      <th>1</th>\n",
       "      <td>2</td>\n",
       "      <td>SBUX</td>\n",
       "      <td>88.60</td>\n",
       "      <td>83.432</td>\n",
       "      <td>85.72</td>\n",
       "      <td>87.22</td>\n",
       "      <td>4585223</td>\n",
       "      <td>86.29</td>\n",
       "      <td>83.983</td>\n",
       "      <td>84.23</td>\n",
       "      <td>...</td>\n",
       "      <td>2020-09-22</td>\n",
       "      <td>0.061767</td>\n",
       "      <td>0.0007</td>\n",
       "      <td>0.000731</td>\n",
       "      <td>0.000732</td>\n",
       "      <td>daily</td>\n",
       "      <td>2021-09-20 16:37:19</td>\n",
       "      <td>87.07</td>\n",
       "      <td>0.001723</td>\n",
       "      <td>0.001721</td>\n",
       "    </tr>\n",
       "    <tr>\n",
       "      <th>2</th>\n",
       "      <td>3</td>\n",
       "      <td>SBUX</td>\n",
       "      <td>86.90</td>\n",
       "      <td>84.840</td>\n",
       "      <td>84.84</td>\n",
       "      <td>85.95</td>\n",
       "      <td>6489244</td>\n",
       "      <td>87.30</td>\n",
       "      <td>85.160</td>\n",
       "      <td>84.75</td>\n",
       "      <td>...</td>\n",
       "      <td>2020-09-23</td>\n",
       "      <td>-1.005530</td>\n",
       "      <td>-0.0115</td>\n",
       "      <td>-0.011038</td>\n",
       "      <td>-0.011042</td>\n",
       "      <td>daily</td>\n",
       "      <td>2021-09-20 16:37:19</td>\n",
       "      <td>87.22</td>\n",
       "      <td>-0.014561</td>\n",
       "      <td>-0.014668</td>\n",
       "    </tr>\n",
       "    <tr>\n",
       "      <th>3</th>\n",
       "      <td>4</td>\n",
       "      <td>SBUX</td>\n",
       "      <td>86.24</td>\n",
       "      <td>83.030</td>\n",
       "      <td>83.03</td>\n",
       "      <td>85.05</td>\n",
       "      <td>4931004</td>\n",
       "      <td>84.87</td>\n",
       "      <td>83.060</td>\n",
       "      <td>84.51</td>\n",
       "      <td>...</td>\n",
       "      <td>2020-09-24</td>\n",
       "      <td>0.050579</td>\n",
       "      <td>0.0006</td>\n",
       "      <td>-0.010325</td>\n",
       "      <td>-0.010578</td>\n",
       "      <td>daily</td>\n",
       "      <td>2021-09-20 16:37:19</td>\n",
       "      <td>85.95</td>\n",
       "      <td>-0.010471</td>\n",
       "      <td>-0.010526</td>\n",
       "    </tr>\n",
       "    <tr>\n",
       "      <th>4</th>\n",
       "      <td>5</td>\n",
       "      <td>SBUX</td>\n",
       "      <td>88.51</td>\n",
       "      <td>84.070</td>\n",
       "      <td>84.08</td>\n",
       "      <td>85.00</td>\n",
       "      <td>6075176</td>\n",
       "      <td>86.72</td>\n",
       "      <td>83.440</td>\n",
       "      <td>86.60</td>\n",
       "      <td>...</td>\n",
       "      <td>2020-09-25</td>\n",
       "      <td>1.297740</td>\n",
       "      <td>0.0158</td>\n",
       "      <td>0.005077</td>\n",
       "      <td>0.005055</td>\n",
       "      <td>daily</td>\n",
       "      <td>2021-09-20 16:37:19</td>\n",
       "      <td>85.05</td>\n",
       "      <td>-0.000588</td>\n",
       "      <td>-0.000588</td>\n",
       "    </tr>\n",
       "  </tbody>\n",
       "</table>\n",
       "<p>5 rows × 21 columns</p>\n",
       "</div>"
      ],
      "text/plain": [
       "   id symbol   high     low   open  close   volume  u_high   u_low  u_close  \\\n",
       "0   1   SBUX  87.07  83.340  83.75  87.07  7291930   86.52  85.510    83.99   \n",
       "1   2   SBUX  88.60  83.432  85.72  87.22  4585223   86.29  83.983    84.23   \n",
       "2   3   SBUX  86.90  84.840  84.84  85.95  6489244   87.30  85.160    84.75   \n",
       "3   4   SBUX  86.24  83.030  83.03  85.05  4931004   84.87  83.060    84.51   \n",
       "4   5   SBUX  88.51  84.070  84.08  85.00  6075176   86.72  83.440    86.60   \n",
       "\n",
       "   ...       date    change  change_percent  change_over_time  \\\n",
       "0  ... 2020-09-21  0.000000          0.0000          0.000000   \n",
       "1  ... 2020-09-22  0.061767          0.0007          0.000731   \n",
       "2  ... 2020-09-23 -1.005530         -0.0115         -0.011038   \n",
       "3  ... 2020-09-24  0.050579          0.0006         -0.010325   \n",
       "4  ... 2020-09-25  1.297740          0.0158          0.005077   \n",
       "\n",
       "   market_change_over_time  resolution           timestamp prev_close  \\\n",
       "0                 0.000000       daily 2021-09-20 16:37:19        NaN   \n",
       "1                 0.000732       daily 2021-09-20 16:37:19      87.07   \n",
       "2                -0.011042       daily 2021-09-20 16:37:19      87.22   \n",
       "3                -0.010578       daily 2021-09-20 16:37:19      85.95   \n",
       "4                 0.005055       daily 2021-09-20 16:37:19      85.05   \n",
       "\n",
       "     return  log_return  \n",
       "0       NaN         NaN  \n",
       "1  0.001723    0.001721  \n",
       "2 -0.014561   -0.014668  \n",
       "3 -0.010471   -0.010526  \n",
       "4 -0.000588   -0.000588  \n",
       "\n",
       "[5 rows x 21 columns]"
      ]
     },
     "execution_count": 8,
     "metadata": {},
     "output_type": "execute_result"
    }
   ],
   "source": [
    "sbux.head()"
   ]
  },
  {
   "cell_type": "code",
   "execution_count": 10,
   "id": "46329f5a-5ff5-4498-b29d-812a687436dc",
   "metadata": {},
   "outputs": [],
   "source": [
    "x_list = np.linspace(\n",
    "    sbux['return'].min(),\n",
    "    sbux['return'].max(),\n",
    "    100)"
   ]
  },
  {
   "cell_type": "code",
   "execution_count": 11,
   "id": "fe169dba-8e00-4717-b9de-c9488bbcd28d",
   "metadata": {},
   "outputs": [],
   "source": [
    "params = t.fit(sbux['return'].astype(float).dropna())"
   ]
  },
  {
   "cell_type": "code",
   "execution_count": 13,
   "id": "abb47c5d-ded1-4bf9-8375-56775722d33f",
   "metadata": {},
   "outputs": [],
   "source": [
    "df, loc, scale = params"
   ]
  },
  {
   "cell_type": "code",
   "execution_count": 14,
   "id": "3fb15ac1-deba-4cd7-b050-67e31355a8bf",
   "metadata": {},
   "outputs": [],
   "source": [
    "y_list = t.pdf(x_list, df, loc, scale)"
   ]
  },
  {
   "cell_type": "code",
   "execution_count": null,
   "id": "78a2325b-7df2-4d51-97d0-2a3b0ad14d3c",
   "metadata": {},
   "outputs": [],
   "source": []
  },
  {
   "cell_type": "code",
   "execution_count": 15,
   "id": "bfa49062-9bf3-4248-a035-1b43081a213b",
   "metadata": {},
   "outputs": [
    {
     "data": {
      "image/png": "[encoded data removed]",
      "text/plain": [
       "<Figure size 432x288 with 1 Axes>"
      ]
     },
     "metadata": {
      "needs_background": "light"
     },
     "output_type": "display_data"
    }
   ],
   "source": [
    "plt.plot(x_list, y_list);\n",
    "sbux['return'].astype(float).hist(bins=100, density=True);"
   ]
  },
  {
   "cell_type": "code",
   "execution_count": 22,
   "id": "20cda33a-5b27-41fb-81e5-00c63574c91c",
   "metadata": {},
   "outputs": [],
   "source": [
    "class myt:\n",
    "    def __init__(self, deg_f):\n",
    "        self.deg_f = deg_f\n",
    "    \n",
    "    def fit(self, x):\n",
    "        return t.fit(x)\n",
    "    \n",
    "    def ppf(self, x, loc=0, scale=1):\n",
    "        return t.ppf(x, self.deg_f, loc, scale)"
   ]
  },
  {
   "cell_type": "code",
   "execution_count": 24,
   "id": "ae95e990-e57c-4167-ba1d-e718221f58c7",
   "metadata": {},
   "outputs": [
    {
     "name": "stderr",
     "output_type": "stream",
     "text": [
      "/mnt/c/Users/Tim/src/money-printer/src/.venv/lib/python3.8/site-packages/statsmodels/graphics/gofplots.py:993: UserWarning: marker is redundantly defined by the 'marker' keyword argument and the fmt string \"bo\" (-> marker='o'). The keyword argument will take precedence.\n",
      "  ax.plot(x, y, fmt, **plot_style)\n"
     ]
    },
    {
     "data": {
      "image/png": "[encoded data removed]",
      "text/plain": [
       "<Figure size 432x288 with 1 Axes>"
      ]
     },
     "metadata": {
      "needs_background": "light"
     },
     "output_type": "display_data"
    }
   ],
   "source": [
    "import statsmodels.api as sm\n",
    "sm.qqplot(sbux['return'].astype(float).dropna(), dist=myt(df), line='s');"
   ]
  },
  {
   "cell_type": "code",
   "execution_count": 26,
   "id": "95b3bf91-d857-4d94-8d54-a6ad2436efe5",
   "metadata": {},
   "outputs": [
    {
     "data": {
      "text/plain": [
       "0.026139581568459486"
      ]
     },
     "execution_count": 26,
     "metadata": {},
     "output_type": "execute_result"
    }
   ],
   "source": [
    "sbux['return'].skew()"
   ]
  },
  {
   "cell_type": "code",
   "execution_count": 27,
   "id": "bd237cb2-aae1-411d-9ca0-e24668217699",
   "metadata": {},
   "outputs": [
    {
     "data": {
      "text/plain": [
       "-0.022313014844406176"
      ]
     },
     "execution_count": 27,
     "metadata": {},
     "output_type": "execute_result"
    }
   ],
   "source": [
    "sbux['return'].kurtosis()"
   ]
  },
  {
   "cell_type": "code",
   "execution_count": 28,
   "id": "7e4b3d59-aae8-47c9-a721-a9e580b950a9",
   "metadata": {},
   "outputs": [
    {
     "data": {
      "text/plain": [
       "-0.044848966643905405"
      ]
     },
     "execution_count": 28,
     "metadata": {},
     "output_type": "execute_result"
    }
   ],
   "source": [
    "sbux['log_return'].skew()"
   ]
  },
  {
   "cell_type": "code",
   "execution_count": 29,
   "id": "b4772857-cde1-461a-93ff-1b199aa1e919",
   "metadata": {},
   "outputs": [
    {
     "data": {
      "text/plain": [
       "0.016838191272249503"
      ]
     },
     "execution_count": 29,
     "metadata": {},
     "output_type": "execute_result"
    }
   ],
   "source": [
    "sbux['log_return'].kurtosis()"
   ]
  },
  {
   "cell_type": "code",
   "execution_count": 33,
   "id": "97af59d8-9400-4ab0-acfe-6d920f50d48f",
   "metadata": {},
   "outputs": [
    {
     "data": {
      "text/plain": [
       "(-0.026614563279544548, -0.06251381959074642)"
      ]
     },
     "execution_count": 33,
     "metadata": {},
     "output_type": "execute_result"
    }
   ],
   "source": [
    "samp = pd.Series(np.random.randn(10000))\n",
    "samp.skew(), samp.kurtosis()"
   ]
  },
  {
   "cell_type": "code",
   "execution_count": null,
   "id": "b507c3d6-b0b0-4f55-bcb9-869c4caf543f",
   "metadata": {},
   "outputs": [],
   "source": []
  }
 ],
 "metadata": {
  "kernelspec": {
   "display_name": "Python 3",
   "language": "python",
   "name": "python3"
  },
  "language_info": {
   "codemirror_mode": {
    "name": "ipython",
    "version": 3
   },
   "file_extension": ".py",
   "mimetype": "text/x-python",
   "name": "python",
   "nbconvert_exporter": "python",
   "pygments_lexer": "ipython3",
   "version": "3.8.10"
  }
 },
 "nbformat": 4,
 "nbformat_minor": 5
}
